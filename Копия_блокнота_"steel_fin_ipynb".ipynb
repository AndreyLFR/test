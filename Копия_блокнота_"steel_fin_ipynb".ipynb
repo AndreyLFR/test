{
  "cells": [
    {
      "cell_type": "markdown",
      "metadata": {
        "id": "view-in-github",
        "colab_type": "text"
      },
      "source": [
        "<a href=\"https://colab.research.google.com/github/AndreyLFR/test/blob/main/%D0%9A%D0%BE%D0%BF%D0%B8%D1%8F_%D0%B1%D0%BB%D0%BE%D0%BA%D0%BD%D0%BE%D1%82%D0%B0_%22steel_fin_ipynb%22.ipynb\" target=\"_parent\"><img src=\"https://colab.research.google.com/assets/colab-badge.svg\" alt=\"Open In Colab\"/></a>"
      ]
    },
    {
      "cell_type": "markdown",
      "id": "e0b1d0e1",
      "metadata": {
        "id": "e0b1d0e1",
        "papermill": {
          "duration": 0.01841,
          "end_time": "2023-12-27T07:58:14.533248",
          "exception": false,
          "start_time": "2023-12-27T07:58:14.514838",
          "status": "completed"
        },
        "tags": []
      },
      "source": [
        "Сталь – один из важнейших строительных материалов современности. Стальные здания устойчивы к естественному и искусственному износу, что сделало этот материал повсеместно распространенным во всем мире. Чтобы сделать производство стали более эффективным, этот конкурс поможет выявить дефекты.\n"
      ]
    },
    {
      "cell_type": "markdown",
      "id": "3d1eb1ad",
      "metadata": {
        "papermill": {
          "duration": 0.017559,
          "end_time": "2023-12-27T07:58:14.568850",
          "exception": false,
          "start_time": "2023-12-27T07:58:14.551291",
          "status": "completed"
        },
        "tags": [],
        "id": "3d1eb1ad"
      },
      "source": [
        "ссылка на каггл с этим соревнованием - https://www.kaggle.com/c/severstal-steel-defect-detection"
      ]
    },
    {
      "cell_type": "markdown",
      "id": "f5586340",
      "metadata": {
        "id": "f5586340",
        "papermill": {
          "duration": 0.017444,
          "end_time": "2023-12-27T07:58:14.604291",
          "exception": false,
          "start_time": "2023-12-27T07:58:14.586847",
          "status": "completed"
        },
        "tags": []
      },
      "source": [
        "### Постановка задачи :\n",
        "\n",
        "Этот конкурс представляет собой двойной конкурс: классифицируйте тип дефекта стали, а также сегментируйте части изображения, содержащие дефект.\n",
        "\n"
      ]
    },
    {
      "cell_type": "code",
      "execution_count": 82,
      "id": "b184991a",
      "metadata": {
        "execution": {
          "iopub.execute_input": "2023-12-27T07:58:14.642850Z",
          "iopub.status.busy": "2023-12-27T07:58:14.641724Z",
          "iopub.status.idle": "2023-12-27T07:58:31.920360Z",
          "shell.execute_reply": "2023-12-27T07:58:31.919223Z"
        },
        "id": "b184991a",
        "papermill": {
          "duration": 17.30131,
          "end_time": "2023-12-27T07:58:31.923478",
          "exception": false,
          "start_time": "2023-12-27T07:58:14.622168",
          "status": "completed"
        },
        "tags": []
      },
      "outputs": [],
      "source": [
        "import pandas as pd\n",
        "import numpy as np\n",
        "import matplotlib.pyplot as plt\n",
        "import seaborn as sns\n",
        "import warnings\n",
        "import keras\n",
        "import cv2\n",
        "from sklearn.model_selection import train_test_split\n",
        "from tqdm import tqdm\n",
        "from sklearn.preprocessing import OneHotEncoder,LabelEncoder\n",
        "from keras.utils import to_categorical\n",
        "from keras.models import Sequential\n",
        "import tensorflow as tf\n",
        "from keras.layers import Dense,Conv2D,Flatten,MaxPooling2D,Dropout\n",
        "from zipfile import ZipFile\n",
        "from imblearn.over_sampling import RandomOverSampler"
      ]
    },
    {
      "cell_type": "markdown",
      "source": [
        "#Готовим входные данные - фотографии из файла .zip"
      ],
      "metadata": {
        "id": "YX0gzv1AaBF_"
      },
      "id": "YX0gzv1AaBF_"
    },
    {
      "cell_type": "code",
      "source": [
        "with ZipFile(\"/content/sample_data/train_images.zip\", \"r\") as myzip:\n",
        "    myzip.extractall(path='sever')"
      ],
      "metadata": {
        "id": "0vZQWy6W2B9h"
      },
      "id": "0vZQWy6W2B9h",
      "execution_count": 83,
      "outputs": []
    },
    {
      "cell_type": "markdown",
      "source": [
        "#Получаем данные по фотографиям, в том числе target"
      ],
      "metadata": {
        "id": "oO09KUcYaPGE"
      },
      "id": "oO09KUcYaPGE"
    },
    {
      "cell_type": "code",
      "execution_count": 84,
      "id": "e6d46e8f",
      "metadata": {
        "execution": {
          "iopub.execute_input": "2023-12-27T07:58:31.963962Z",
          "iopub.status.busy": "2023-12-27T07:58:31.963114Z",
          "iopub.status.idle": "2023-12-27T07:58:32.499722Z",
          "shell.execute_reply": "2023-12-27T07:58:32.498482Z"
        },
        "id": "e6d46e8f",
        "papermill": {
          "duration": 0.560456,
          "end_time": "2023-12-27T07:58:32.502818",
          "exception": false,
          "start_time": "2023-12-27T07:58:31.942362",
          "status": "completed"
        },
        "tags": []
      },
      "outputs": [],
      "source": [
        "data = pd.read_csv('/content/sample_data/train.csv')"
      ]
    },
    {
      "cell_type": "code",
      "execution_count": 85,
      "id": "95c02989",
      "metadata": {
        "execution": {
          "iopub.execute_input": "2023-12-27T07:58:32.542114Z",
          "iopub.status.busy": "2023-12-27T07:58:32.541680Z",
          "iopub.status.idle": "2023-12-27T07:58:32.573679Z",
          "shell.execute_reply": "2023-12-27T07:58:32.572370Z"
        },
        "id": "95c02989",
        "outputId": "f7feb8d8-cc4e-4b84-e05a-ab4557cbd2a1",
        "papermill": {
          "duration": 0.055127,
          "end_time": "2023-12-27T07:58:32.576490",
          "exception": false,
          "start_time": "2023-12-27T07:58:32.521363",
          "status": "completed"
        },
        "tags": [],
        "colab": {
          "base_uri": "https://localhost:8080/",
          "height": 424
        }
      },
      "outputs": [
        {
          "output_type": "execute_result",
          "data": {
            "text/plain": [
              "            ImageId  ClassId  \\\n",
              "0     0002cc93b.jpg        1   \n",
              "1     0007a71bf.jpg        3   \n",
              "2     000a4bcdd.jpg        1   \n",
              "3     000f6bf48.jpg        4   \n",
              "4     0014fce06.jpg        3   \n",
              "...             ...      ...   \n",
              "7090  ffcf72ecf.jpg        3   \n",
              "7091  fff02e9c5.jpg        3   \n",
              "7092  fffe98443.jpg        3   \n",
              "7093  ffff4eaa8.jpg        3   \n",
              "7094  ffffd67df.jpg        3   \n",
              "\n",
              "                                          EncodedPixels  \n",
              "0     29102 12 29346 24 29602 24 29858 24 30114 24 3...  \n",
              "1     18661 28 18863 82 19091 110 19347 110 19603 11...  \n",
              "2     37607 3 37858 8 38108 14 38359 20 38610 25 388...  \n",
              "3     131973 1 132228 4 132483 6 132738 8 132993 11 ...  \n",
              "4     229501 11 229741 33 229981 55 230221 77 230468...  \n",
              "...                                                 ...  \n",
              "7090  121911 34 122167 101 122422 169 122678 203 122...  \n",
              "7091  207523 3 207777 9 208030 15 208283 22 208537 2...  \n",
              "7092  105929 5 106177 14 106424 24 106672 33 106923 ...  \n",
              "7093  16899 7 17155 20 17411 34 17667 47 17923 60 18...  \n",
              "7094  30931 43 31103 127 31275 211 31489 253 31745 2...  \n",
              "\n",
              "[7095 rows x 3 columns]"
            ],
            "text/html": [
              "\n",
              "  <div id=\"df-b2c80724-be02-45b1-b2f4-03e1e44bf8c5\" class=\"colab-df-container\">\n",
              "    <div>\n",
              "<style scoped>\n",
              "    .dataframe tbody tr th:only-of-type {\n",
              "        vertical-align: middle;\n",
              "    }\n",
              "\n",
              "    .dataframe tbody tr th {\n",
              "        vertical-align: top;\n",
              "    }\n",
              "\n",
              "    .dataframe thead th {\n",
              "        text-align: right;\n",
              "    }\n",
              "</style>\n",
              "<table border=\"1\" class=\"dataframe\">\n",
              "  <thead>\n",
              "    <tr style=\"text-align: right;\">\n",
              "      <th></th>\n",
              "      <th>ImageId</th>\n",
              "      <th>ClassId</th>\n",
              "      <th>EncodedPixels</th>\n",
              "    </tr>\n",
              "  </thead>\n",
              "  <tbody>\n",
              "    <tr>\n",
              "      <th>0</th>\n",
              "      <td>0002cc93b.jpg</td>\n",
              "      <td>1</td>\n",
              "      <td>29102 12 29346 24 29602 24 29858 24 30114 24 3...</td>\n",
              "    </tr>\n",
              "    <tr>\n",
              "      <th>1</th>\n",
              "      <td>0007a71bf.jpg</td>\n",
              "      <td>3</td>\n",
              "      <td>18661 28 18863 82 19091 110 19347 110 19603 11...</td>\n",
              "    </tr>\n",
              "    <tr>\n",
              "      <th>2</th>\n",
              "      <td>000a4bcdd.jpg</td>\n",
              "      <td>1</td>\n",
              "      <td>37607 3 37858 8 38108 14 38359 20 38610 25 388...</td>\n",
              "    </tr>\n",
              "    <tr>\n",
              "      <th>3</th>\n",
              "      <td>000f6bf48.jpg</td>\n",
              "      <td>4</td>\n",
              "      <td>131973 1 132228 4 132483 6 132738 8 132993 11 ...</td>\n",
              "    </tr>\n",
              "    <tr>\n",
              "      <th>4</th>\n",
              "      <td>0014fce06.jpg</td>\n",
              "      <td>3</td>\n",
              "      <td>229501 11 229741 33 229981 55 230221 77 230468...</td>\n",
              "    </tr>\n",
              "    <tr>\n",
              "      <th>...</th>\n",
              "      <td>...</td>\n",
              "      <td>...</td>\n",
              "      <td>...</td>\n",
              "    </tr>\n",
              "    <tr>\n",
              "      <th>7090</th>\n",
              "      <td>ffcf72ecf.jpg</td>\n",
              "      <td>3</td>\n",
              "      <td>121911 34 122167 101 122422 169 122678 203 122...</td>\n",
              "    </tr>\n",
              "    <tr>\n",
              "      <th>7091</th>\n",
              "      <td>fff02e9c5.jpg</td>\n",
              "      <td>3</td>\n",
              "      <td>207523 3 207777 9 208030 15 208283 22 208537 2...</td>\n",
              "    </tr>\n",
              "    <tr>\n",
              "      <th>7092</th>\n",
              "      <td>fffe98443.jpg</td>\n",
              "      <td>3</td>\n",
              "      <td>105929 5 106177 14 106424 24 106672 33 106923 ...</td>\n",
              "    </tr>\n",
              "    <tr>\n",
              "      <th>7093</th>\n",
              "      <td>ffff4eaa8.jpg</td>\n",
              "      <td>3</td>\n",
              "      <td>16899 7 17155 20 17411 34 17667 47 17923 60 18...</td>\n",
              "    </tr>\n",
              "    <tr>\n",
              "      <th>7094</th>\n",
              "      <td>ffffd67df.jpg</td>\n",
              "      <td>3</td>\n",
              "      <td>30931 43 31103 127 31275 211 31489 253 31745 2...</td>\n",
              "    </tr>\n",
              "  </tbody>\n",
              "</table>\n",
              "<p>7095 rows × 3 columns</p>\n",
              "</div>\n",
              "    <div class=\"colab-df-buttons\">\n",
              "\n",
              "  <div class=\"colab-df-container\">\n",
              "    <button class=\"colab-df-convert\" onclick=\"convertToInteractive('df-b2c80724-be02-45b1-b2f4-03e1e44bf8c5')\"\n",
              "            title=\"Convert this dataframe to an interactive table.\"\n",
              "            style=\"display:none;\">\n",
              "\n",
              "  <svg xmlns=\"http://www.w3.org/2000/svg\" height=\"24px\" viewBox=\"0 -960 960 960\">\n",
              "    <path d=\"M120-120v-720h720v720H120Zm60-500h600v-160H180v160Zm220 220h160v-160H400v160Zm0 220h160v-160H400v160ZM180-400h160v-160H180v160Zm440 0h160v-160H620v160ZM180-180h160v-160H180v160Zm440 0h160v-160H620v160Z\"/>\n",
              "  </svg>\n",
              "    </button>\n",
              "\n",
              "  <style>\n",
              "    .colab-df-container {\n",
              "      display:flex;\n",
              "      gap: 12px;\n",
              "    }\n",
              "\n",
              "    .colab-df-convert {\n",
              "      background-color: #E8F0FE;\n",
              "      border: none;\n",
              "      border-radius: 50%;\n",
              "      cursor: pointer;\n",
              "      display: none;\n",
              "      fill: #1967D2;\n",
              "      height: 32px;\n",
              "      padding: 0 0 0 0;\n",
              "      width: 32px;\n",
              "    }\n",
              "\n",
              "    .colab-df-convert:hover {\n",
              "      background-color: #E2EBFA;\n",
              "      box-shadow: 0px 1px 2px rgba(60, 64, 67, 0.3), 0px 1px 3px 1px rgba(60, 64, 67, 0.15);\n",
              "      fill: #174EA6;\n",
              "    }\n",
              "\n",
              "    .colab-df-buttons div {\n",
              "      margin-bottom: 4px;\n",
              "    }\n",
              "\n",
              "    [theme=dark] .colab-df-convert {\n",
              "      background-color: #3B4455;\n",
              "      fill: #D2E3FC;\n",
              "    }\n",
              "\n",
              "    [theme=dark] .colab-df-convert:hover {\n",
              "      background-color: #434B5C;\n",
              "      box-shadow: 0px 1px 3px 1px rgba(0, 0, 0, 0.15);\n",
              "      filter: drop-shadow(0px 1px 2px rgba(0, 0, 0, 0.3));\n",
              "      fill: #FFFFFF;\n",
              "    }\n",
              "  </style>\n",
              "\n",
              "    <script>\n",
              "      const buttonEl =\n",
              "        document.querySelector('#df-b2c80724-be02-45b1-b2f4-03e1e44bf8c5 button.colab-df-convert');\n",
              "      buttonEl.style.display =\n",
              "        google.colab.kernel.accessAllowed ? 'block' : 'none';\n",
              "\n",
              "      async function convertToInteractive(key) {\n",
              "        const element = document.querySelector('#df-b2c80724-be02-45b1-b2f4-03e1e44bf8c5');\n",
              "        const dataTable =\n",
              "          await google.colab.kernel.invokeFunction('convertToInteractive',\n",
              "                                                    [key], {});\n",
              "        if (!dataTable) return;\n",
              "\n",
              "        const docLinkHtml = 'Like what you see? Visit the ' +\n",
              "          '<a target=\"_blank\" href=https://colab.research.google.com/notebooks/data_table.ipynb>data table notebook</a>'\n",
              "          + ' to learn more about interactive tables.';\n",
              "        element.innerHTML = '';\n",
              "        dataTable['output_type'] = 'display_data';\n",
              "        await google.colab.output.renderOutput(dataTable, element);\n",
              "        const docLink = document.createElement('div');\n",
              "        docLink.innerHTML = docLinkHtml;\n",
              "        element.appendChild(docLink);\n",
              "      }\n",
              "    </script>\n",
              "  </div>\n",
              "\n",
              "\n",
              "<div id=\"df-24729f85-feb8-4ce7-b943-1b5d64327d4d\">\n",
              "  <button class=\"colab-df-quickchart\" onclick=\"quickchart('df-24729f85-feb8-4ce7-b943-1b5d64327d4d')\"\n",
              "            title=\"Suggest charts\"\n",
              "            style=\"display:none;\">\n",
              "\n",
              "<svg xmlns=\"http://www.w3.org/2000/svg\" height=\"24px\"viewBox=\"0 0 24 24\"\n",
              "     width=\"24px\">\n",
              "    <g>\n",
              "        <path d=\"M19 3H5c-1.1 0-2 .9-2 2v14c0 1.1.9 2 2 2h14c1.1 0 2-.9 2-2V5c0-1.1-.9-2-2-2zM9 17H7v-7h2v7zm4 0h-2V7h2v10zm4 0h-2v-4h2v4z\"/>\n",
              "    </g>\n",
              "</svg>\n",
              "  </button>\n",
              "\n",
              "<style>\n",
              "  .colab-df-quickchart {\n",
              "      --bg-color: #E8F0FE;\n",
              "      --fill-color: #1967D2;\n",
              "      --hover-bg-color: #E2EBFA;\n",
              "      --hover-fill-color: #174EA6;\n",
              "      --disabled-fill-color: #AAA;\n",
              "      --disabled-bg-color: #DDD;\n",
              "  }\n",
              "\n",
              "  [theme=dark] .colab-df-quickchart {\n",
              "      --bg-color: #3B4455;\n",
              "      --fill-color: #D2E3FC;\n",
              "      --hover-bg-color: #434B5C;\n",
              "      --hover-fill-color: #FFFFFF;\n",
              "      --disabled-bg-color: #3B4455;\n",
              "      --disabled-fill-color: #666;\n",
              "  }\n",
              "\n",
              "  .colab-df-quickchart {\n",
              "    background-color: var(--bg-color);\n",
              "    border: none;\n",
              "    border-radius: 50%;\n",
              "    cursor: pointer;\n",
              "    display: none;\n",
              "    fill: var(--fill-color);\n",
              "    height: 32px;\n",
              "    padding: 0;\n",
              "    width: 32px;\n",
              "  }\n",
              "\n",
              "  .colab-df-quickchart:hover {\n",
              "    background-color: var(--hover-bg-color);\n",
              "    box-shadow: 0 1px 2px rgba(60, 64, 67, 0.3), 0 1px 3px 1px rgba(60, 64, 67, 0.15);\n",
              "    fill: var(--button-hover-fill-color);\n",
              "  }\n",
              "\n",
              "  .colab-df-quickchart-complete:disabled,\n",
              "  .colab-df-quickchart-complete:disabled:hover {\n",
              "    background-color: var(--disabled-bg-color);\n",
              "    fill: var(--disabled-fill-color);\n",
              "    box-shadow: none;\n",
              "  }\n",
              "\n",
              "  .colab-df-spinner {\n",
              "    border: 2px solid var(--fill-color);\n",
              "    border-color: transparent;\n",
              "    border-bottom-color: var(--fill-color);\n",
              "    animation:\n",
              "      spin 1s steps(1) infinite;\n",
              "  }\n",
              "\n",
              "  @keyframes spin {\n",
              "    0% {\n",
              "      border-color: transparent;\n",
              "      border-bottom-color: var(--fill-color);\n",
              "      border-left-color: var(--fill-color);\n",
              "    }\n",
              "    20% {\n",
              "      border-color: transparent;\n",
              "      border-left-color: var(--fill-color);\n",
              "      border-top-color: var(--fill-color);\n",
              "    }\n",
              "    30% {\n",
              "      border-color: transparent;\n",
              "      border-left-color: var(--fill-color);\n",
              "      border-top-color: var(--fill-color);\n",
              "      border-right-color: var(--fill-color);\n",
              "    }\n",
              "    40% {\n",
              "      border-color: transparent;\n",
              "      border-right-color: var(--fill-color);\n",
              "      border-top-color: var(--fill-color);\n",
              "    }\n",
              "    60% {\n",
              "      border-color: transparent;\n",
              "      border-right-color: var(--fill-color);\n",
              "    }\n",
              "    80% {\n",
              "      border-color: transparent;\n",
              "      border-right-color: var(--fill-color);\n",
              "      border-bottom-color: var(--fill-color);\n",
              "    }\n",
              "    90% {\n",
              "      border-color: transparent;\n",
              "      border-bottom-color: var(--fill-color);\n",
              "    }\n",
              "  }\n",
              "</style>\n",
              "\n",
              "  <script>\n",
              "    async function quickchart(key) {\n",
              "      const quickchartButtonEl =\n",
              "        document.querySelector('#' + key + ' button');\n",
              "      quickchartButtonEl.disabled = true;  // To prevent multiple clicks.\n",
              "      quickchartButtonEl.classList.add('colab-df-spinner');\n",
              "      try {\n",
              "        const charts = await google.colab.kernel.invokeFunction(\n",
              "            'suggestCharts', [key], {});\n",
              "      } catch (error) {\n",
              "        console.error('Error during call to suggestCharts:', error);\n",
              "      }\n",
              "      quickchartButtonEl.classList.remove('colab-df-spinner');\n",
              "      quickchartButtonEl.classList.add('colab-df-quickchart-complete');\n",
              "    }\n",
              "    (() => {\n",
              "      let quickchartButtonEl =\n",
              "        document.querySelector('#df-24729f85-feb8-4ce7-b943-1b5d64327d4d button');\n",
              "      quickchartButtonEl.style.display =\n",
              "        google.colab.kernel.accessAllowed ? 'block' : 'none';\n",
              "    })();\n",
              "  </script>\n",
              "</div>\n",
              "    </div>\n",
              "  </div>\n"
            ],
            "application/vnd.google.colaboratory.intrinsic+json": {
              "type": "dataframe",
              "variable_name": "data",
              "summary": "{\n  \"name\": \"data\",\n  \"rows\": 7095,\n  \"fields\": [\n    {\n      \"column\": \"ImageId\",\n      \"properties\": {\n        \"dtype\": \"string\",\n        \"num_unique_values\": 6666,\n        \"samples\": [\n          \"0934b8bff.jpg\",\n          \"5994c3b58.jpg\",\n          \"ec52fac2d.jpg\"\n        ],\n        \"semantic_type\": \"\",\n        \"description\": \"\"\n      }\n    },\n    {\n      \"column\": \"ClassId\",\n      \"properties\": {\n        \"dtype\": \"number\",\n        \"std\": 0,\n        \"min\": 1,\n        \"max\": 4,\n        \"num_unique_values\": 4,\n        \"samples\": [\n          3,\n          2,\n          1\n        ],\n        \"semantic_type\": \"\",\n        \"description\": \"\"\n      }\n    },\n    {\n      \"column\": \"EncodedPixels\",\n      \"properties\": {\n        \"dtype\": \"string\",\n        \"num_unique_values\": 7095,\n        \"samples\": [\n          \"171129 87 171305 215 171521 255 171777 255 172034 254 172290 253 172546 253 172802 253 173059 252 173315 252 173571 252 173828 251 174084 250 174340 250 174596 250 174853 249 175109 124 309507 14 309709 50 309763 41 309867 148 310018 253 310274 253 310530 253 310786 253 311042 254 311298 254 311596 212 311937 127 312277 43 312433 112 312578 223 312834 223 313090 222 313345 223 313601 167 313857 56 352260 63 352516 188 352772 251 353028 251 353284 251 353541 250 353797 249 354053 249 354309 249 354565 249 354821 249 355077 249 355333 248 355589 248 355845 248 356102 247 356358 247 356614 247 356870 246 357126 246 357444 184 357822 62\",\n          \"313510 2 313561 1 313762 5 313816 3 313993 2 314014 7 314049 4 314071 5 314248 5 314266 9 314302 7 314325 9 314503 6 314518 11 314557 8 314580 10 314759 6 314772 11 314811 9 314835 12 315014 7 315028 10 315066 10 315090 13 315111 15 315269 8 315283 9 315320 12 315345 14 315364 20 315524 9 315539 7 315574 14 315599 17 315617 26 315761 2 315781 7 315794 6 315827 16 315853 48 316015 3 316038 6 316050 7 316081 18 316106 53 316269 5 316295 5 316305 9 316336 19 316360 55 316523 6 316553 3 316561 9 316590 21 316613 58 316777 8 316800 1 316810 2 316816 11 316844 22 316867 60 317031 9 317054 2 317067 1 317072 12 317099 84 317285 10 317308 4 317328 13 317353 86 317540 11 317563 4 317585 13 317608 74 317684 11 317796 10 317817 6 317841 13 317861 75 317942 10 318053 9 318071 7 318098 13 318116 74 318199 9 318309 8 318326 7 318354 14 318372 72 318457 7 318566 7 318582 7 318611 12 318627 73 318714 6 318822 6 318839 5 318867 12 318883 73 318971 5 319078 5 319095 4 319123 11 319139 61 319207 4 319229 3 319335 4 319351 4 319379 10 319394 58 319486 2 319591 3 319607 3 319635 10 319648 58 319848 2 319864 2 319891 9 319902 52 319955 6 320104 1 320147 8 320156 52 320403 59 320658 58 320903 5 320914 49 320967 3 321158 7 321170 49 321413 9 321425 49 321668 11 321681 49 321923 13 321937 49 322178 43 322226 16 322434 34 322470 6 322487 11 322689 31 322727 5 322745 9 322946 27 322983 3 323002 9 323203 24 323260 7 323460 21 323708 30 323963 31 324217 34 324472 35 324728 36 324985 35 325245 32 325504 27 325766 17 326030 6 346463 4 346719 10 346976 12 347232 13 347488 15 347545 1 347745 15 347800 4 348001 16 348055 7 348261 14 348310 8 348520 12 348565 9 348776 13 348820 11 349032 10 349075 12 349288 6 349330 14 349544 2 349585 15 349840 17 350097 16 350354 15 350611 7 350620 6 350868 6 350878 4 351125 5 351136 2 351382 4\",\n          \"307601 6 307850 18 308033 1 308057 2 308099 30 308287 3 308311 6 308348 42 308542 4 308564 8 308599 52 308796 7 308817 10 308853 58 309050 9 309071 11 309107 63 309305 10 309324 13 309361 68 309542 1 309559 12 309578 14 309615 73 309796 4 309814 14 309831 16 309869 79 310051 5 310068 16 310085 17 310123 84 310305 8 310323 34 310377 89 310560 9 310577 35 310631 94 310814 12 310831 36 310885 101 311069 14 311086 36 311139 103 311323 16 311340 37 311393 105 311578 55 311647 108 311832 61 311901 110 312087 65 312155 112 312341 181 312596 182 312852 181 313108 181 313364 180 313620 26 313648 102 313751 47 313876 21 313905 100 314009 43 314132 16 314161 99 314267 39 314389 12 314418 97 314525 4 314535 23 314645 11 314674 96 314799 9 314901 10 314929 96 315157 8 315183 97 315413 7 315438 97 315669 1 315671 4 315693 96 315928 2 315948 93 316203 90 316457 89 316712 86 316967 84 317221 84 317475 84 317728 85 317982 83 318236 62 318301 17 318492 62 318565 5 318748 62 319005 60 319261 57 319517 54 319774 51 320030 48 320287 44 320543 41 320801 36 321061 29 321321 22 321580 17 321848 2 340752 2 341008 4 341263 8 341519 10 341775 13 341838 1 342030 16 342093 3 342286 18 342349 3 342542 21 342604 5 342797 24 342859 7 343053 27 343114 8 343309 29 343370 9 343564 31 343625 11 343820 31 343880 12 344076 29 344135 14 344331 29 344391 15 344587 28 344646 16 344842 27 344901 18 345098 26 345156 20 345354 25 345412 20 345609 24 345667 22 345865 23 345924 19 346121 21 346181 16 346376 21 346438 13 346632 20 346695 10 346888 18 346952 7 347144 17 347209 4 347399 17 347466 1 347657 13 347915 10 348174 6 348432 2\"\n        ],\n        \"semantic_type\": \"\",\n        \"description\": \"\"\n      }\n    }\n  ]\n}"
            }
          },
          "metadata": {},
          "execution_count": 85
        }
      ],
      "source": [
        "data"
      ]
    },
    {
      "cell_type": "markdown",
      "source": [
        "Наименования столбцов ImageID - наименование файла из архива, ClassID - target"
      ],
      "metadata": {
        "id": "rQcJgfjWbCjB"
      },
      "id": "rQcJgfjWbCjB"
    },
    {
      "cell_type": "code",
      "execution_count": 86,
      "id": "f39b0a66",
      "metadata": {
        "execution": {
          "iopub.execute_input": "2023-12-27T07:58:32.616794Z",
          "iopub.status.busy": "2023-12-27T07:58:32.616340Z",
          "iopub.status.idle": "2023-12-27T07:58:32.623942Z",
          "shell.execute_reply": "2023-12-27T07:58:32.622794Z"
        },
        "id": "f39b0a66",
        "outputId": "081a1ba0-856f-43ce-e486-bfc67948bf83",
        "papermill": {
          "duration": 0.031501,
          "end_time": "2023-12-27T07:58:32.626691",
          "exception": false,
          "start_time": "2023-12-27T07:58:32.595190",
          "status": "completed"
        },
        "tags": [],
        "colab": {
          "base_uri": "https://localhost:8080/"
        }
      },
      "outputs": [
        {
          "output_type": "execute_result",
          "data": {
            "text/plain": [
              "(7095, 3)"
            ]
          },
          "metadata": {},
          "execution_count": 86
        }
      ],
      "source": [
        "data.shape"
      ]
    },
    {
      "cell_type": "markdown",
      "id": "f7f7af73",
      "metadata": {
        "id": "f7f7af73",
        "papermill": {
          "duration": 0.018928,
          "end_time": "2023-12-27T07:58:32.664844",
          "exception": false,
          "start_time": "2023-12-27T07:58:32.645916",
          "status": "completed"
        },
        "tags": []
      },
      "source": [
        "У нас 7095 и три фичи\n"
      ]
    },
    {
      "cell_type": "markdown",
      "id": "75f32651",
      "metadata": {
        "papermill": {
          "duration": 0.018225,
          "end_time": "2023-12-27T07:58:32.702265",
          "exception": false,
          "start_time": "2023-12-27T07:58:32.684040",
          "status": "completed"
        },
        "tags": [],
        "id": "75f32651"
      },
      "source": [
        "# Разведочный анализ данных"
      ]
    },
    {
      "cell_type": "code",
      "execution_count": 87,
      "id": "3fff6247",
      "metadata": {
        "execution": {
          "iopub.execute_input": "2023-12-27T07:58:32.741246Z",
          "iopub.status.busy": "2023-12-27T07:58:32.740796Z",
          "iopub.status.idle": "2023-12-27T07:58:33.057012Z",
          "shell.execute_reply": "2023-12-27T07:58:33.055641Z"
        },
        "id": "3fff6247",
        "outputId": "e726cdc0-f4d8-4a68-eacb-b38341681e4e",
        "papermill": {
          "duration": 0.338863,
          "end_time": "2023-12-27T07:58:33.059660",
          "exception": false,
          "start_time": "2023-12-27T07:58:32.720797",
          "status": "completed"
        },
        "tags": [],
        "colab": {
          "base_uri": "https://localhost:8080/",
          "height": 514
        }
      },
      "outputs": [
        {
          "output_type": "execute_result",
          "data": {
            "text/plain": [
              "3    5150\n",
              "1     897\n",
              "4     801\n",
              "2     247\n",
              "Name: ClassId, dtype: int64"
            ]
          },
          "metadata": {},
          "execution_count": 87
        },
        {
          "output_type": "display_data",
          "data": {
            "text/plain": [
              "<Figure size 640x480 with 1 Axes>"
            ],
            "image/png": "[encoded data removed]"
          },
          "metadata": {}
        }
      ],
      "source": [
        "data[\"ClassId\"].value_counts().plot(kind = 'bar')\n",
        "data[\"ClassId\"].value_counts()"
      ]
    },
    {
      "cell_type": "markdown",
      "id": "3fd99fbf",
      "metadata": {
        "id": "3fd99fbf",
        "papermill": {
          "duration": 0.020298,
          "end_time": "2023-12-27T07:58:33.100233",
          "exception": false,
          "start_time": "2023-12-27T07:58:33.079935",
          "status": "completed"
        },
        "tags": []
      },
      "source": [
        "больше всего меток третьего класса"
      ]
    },
    {
      "cell_type": "markdown",
      "id": "a421804b",
      "metadata": {
        "id": "a421804b",
        "papermill": {
          "duration": 0.018802,
          "end_time": "2023-12-27T07:58:33.209247",
          "exception": false,
          "start_time": "2023-12-27T07:58:33.190445",
          "status": "completed"
        },
        "tags": []
      },
      "source": [
        "Перекос данных, поэтому выполним аугментацию."
      ]
    },
    {
      "cell_type": "code",
      "execution_count": 88,
      "id": "ba3ddab1",
      "metadata": {
        "execution": {
          "iopub.execute_input": "2023-12-27T07:58:33.590572Z",
          "iopub.status.busy": "2023-12-27T07:58:33.589355Z",
          "iopub.status.idle": "2023-12-27T08:00:57.051069Z",
          "shell.execute_reply": "2023-12-27T08:00:57.049743Z"
        },
        "id": "ba3ddab1",
        "outputId": "74390bd5-058e-4e89-e35f-cb94551e3a01",
        "papermill": {
          "duration": 143.487801,
          "end_time": "2023-12-27T08:00:57.054617",
          "exception": false,
          "start_time": "2023-12-27T07:58:33.566816",
          "status": "completed"
        },
        "tags": [],
        "colab": {
          "base_uri": "https://localhost:8080/"
        }
      },
      "outputs": [
        {
          "output_type": "stream",
          "name": "stderr",
          "text": [
            "100%|██████████| 7095/7095 [00:02<00:00, 2871.15it/s]"
          ]
        },
        {
          "output_type": "stream",
          "name": "stdout",
          "text": [
            "351\n"
          ]
        },
        {
          "output_type": "stream",
          "name": "stderr",
          "text": [
            "\n"
          ]
        }
      ],
      "source": [
        "l1=[]\n",
        "l2=[]\n",
        "for img,ClassId,EncodedPixels in tqdm(data.values):\n",
        "  image = cv2.imread(f'/content/sever/{img}', 1)\n",
        "  if not image is None:\n",
        "    image_rs=cv2.resize(image,(120,120))\n",
        "    l1.append(image_rs)\n",
        "    l2.append(ClassId)\n",
        "\n",
        "print(len(l2))"
      ]
    },
    {
      "cell_type": "markdown",
      "source": [
        "В папке 622 файла. При этом в csv файле у нас 7095 событий. Таким образом, удалось найти по наименованию файлов 351 событие.\n",
        "\n",
        "Малая выборка может негативно отразиться на качестве обучения модели"
      ],
      "metadata": {
        "id": "-GAfIYJzcyfk"
      },
      "id": "-GAfIYJzcyfk"
    },
    {
      "cell_type": "markdown",
      "id": "a6f435aa",
      "metadata": {
        "id": "a6f435aa",
        "papermill": {
          "duration": 0.136756,
          "end_time": "2023-12-27T08:00:59.323882",
          "exception": false,
          "start_time": "2023-12-27T08:00:59.187126",
          "status": "completed"
        },
        "tags": []
      },
      "source": [
        "#Выполним one-hot кодировку"
      ]
    },
    {
      "cell_type": "code",
      "execution_count": 89,
      "id": "81f124da",
      "metadata": {
        "execution": {
          "iopub.execute_input": "2023-12-27T08:00:59.599601Z",
          "iopub.status.busy": "2023-12-27T08:00:59.599181Z",
          "iopub.status.idle": "2023-12-27T08:01:00.890780Z",
          "shell.execute_reply": "2023-12-27T08:01:00.889348Z"
        },
        "id": "81f124da",
        "papermill": {
          "duration": 1.43355,
          "end_time": "2023-12-27T08:01:00.894914",
          "exception": false,
          "start_time": "2023-12-27T08:00:59.461364",
          "status": "completed"
        },
        "tags": []
      },
      "outputs": [],
      "source": [
        "encoder = LabelEncoder()\n",
        "\n",
        "X= np.array(l1)\n",
        "X = X/255\n",
        "\n",
        "y = encoder.fit_transform(l2)\n",
        "y = np.array(y)\n"
      ]
    },
    {
      "cell_type": "markdown",
      "id": "1a0b3372",
      "metadata": {
        "papermill": {
          "duration": 0.136272,
          "end_time": "2023-12-27T08:01:01.744432",
          "exception": false,
          "start_time": "2023-12-27T08:01:01.608160",
          "status": "completed"
        },
        "tags": [],
        "id": "1a0b3372"
      },
      "source": [
        "# Борьба с дибалансом"
      ]
    },
    {
      "cell_type": "markdown",
      "id": "769105bb",
      "metadata": {
        "id": "769105bb",
        "papermill": {
          "duration": 0.14797,
          "end_time": "2023-12-27T08:01:02.036069",
          "exception": false,
          "start_time": "2023-12-27T08:01:01.888099",
          "status": "completed"
        },
        "tags": []
      },
      "source": [
        "для борьбы с дисбалансом выполним случайное сэмплирование"
      ]
    },
    {
      "cell_type": "code",
      "execution_count": 90,
      "id": "4f7abc9c",
      "metadata": {
        "execution": {
          "iopub.execute_input": "2023-12-27T08:01:02.319207Z",
          "iopub.status.busy": "2023-12-27T08:01:02.318230Z",
          "iopub.status.idle": "2023-12-27T08:01:09.767551Z",
          "shell.execute_reply": "2023-12-27T08:01:09.766207Z"
        },
        "id": "4f7abc9c",
        "papermill": {
          "duration": 7.594365,
          "end_time": "2023-12-27T08:01:09.770811",
          "exception": false,
          "start_time": "2023-12-27T08:01:02.176446",
          "status": "completed"
        },
        "tags": []
      },
      "outputs": [],
      "source": [
        "reshaped_X = X.reshape(X.shape[0],-1)\n",
        "oversample = RandomOverSampler(sampling_strategy='not majority')\n",
        "X, y  = oversample.fit_resample(reshaped_X , y)\n",
        "X = X.reshape(-1,120,120,3)\n",
        "y = to_categorical(y)"
      ]
    },
    {
      "cell_type": "markdown",
      "id": "c94d3a08",
      "metadata": {
        "id": "c94d3a08",
        "papermill": {
          "duration": 0.134311,
          "end_time": "2023-12-27T08:01:10.918364",
          "exception": false,
          "start_time": "2023-12-27T08:01:10.784053",
          "status": "completed"
        },
        "tags": []
      },
      "source": [
        "#Разделим на тренировку и валидацию"
      ]
    },
    {
      "cell_type": "code",
      "execution_count": 91,
      "id": "5bbbf275",
      "metadata": {
        "execution": {
          "iopub.execute_input": "2023-12-27T08:01:11.189911Z",
          "iopub.status.busy": "2023-12-27T08:01:11.189280Z",
          "iopub.status.idle": "2023-12-27T08:01:13.706235Z",
          "shell.execute_reply": "2023-12-27T08:01:13.705019Z"
        },
        "id": "5bbbf275",
        "papermill": {
          "duration": 2.656345,
          "end_time": "2023-12-27T08:01:13.709223",
          "exception": false,
          "start_time": "2023-12-27T08:01:11.052878",
          "status": "completed"
        },
        "tags": []
      },
      "outputs": [],
      "source": [
        "X_train,X_test,y_train,y_test=train_test_split(X,y,test_size=0.1,stratify=y,shuffle=True)"
      ]
    },
    {
      "cell_type": "code",
      "execution_count": 92,
      "id": "31d03f4b",
      "metadata": {
        "execution": {
          "iopub.execute_input": "2023-12-27T08:01:13.986248Z",
          "iopub.status.busy": "2023-12-27T08:01:13.985218Z",
          "iopub.status.idle": "2023-12-27T08:01:13.994360Z",
          "shell.execute_reply": "2023-12-27T08:01:13.992865Z"
        },
        "id": "31d03f4b",
        "papermill": {
          "duration": 0.150417,
          "end_time": "2023-12-27T08:01:13.997024",
          "exception": false,
          "start_time": "2023-12-27T08:01:13.846607",
          "status": "completed"
        },
        "tags": [],
        "outputId": "921108ec-c141-4b6c-db25-fe6fd4f9be45",
        "colab": {
          "base_uri": "https://localhost:8080/"
        }
      },
      "outputs": [
        {
          "output_type": "stream",
          "name": "stdout",
          "text": [
            "x_train размер: (885, 120, 120, 3)\n",
            "x_test размер: (99, 120, 120, 3)\n",
            "y_train размер: (885, 4)\n",
            "y_test размер: (99, 4)\n"
          ]
        }
      ],
      "source": [
        "print(\"x_train размер:\",X_train.shape)\n",
        "print(\"x_test размер:\",X_test.shape)\n",
        "print(\"y_train размер:\",y_train.shape)\n",
        "print(\"y_test размер:\",y_test.shape)"
      ]
    },
    {
      "cell_type": "markdown",
      "id": "ffbc28a1",
      "metadata": {
        "papermill": {
          "duration": 0.136133,
          "end_time": "2023-12-27T08:01:14.269545",
          "exception": false,
          "start_time": "2023-12-27T08:01:14.133412",
          "status": "completed"
        },
        "tags": [],
        "id": "ffbc28a1"
      },
      "source": [
        "# Построение нейронной сети\n"
      ]
    },
    {
      "cell_type": "code",
      "execution_count": 93,
      "id": "18324b25",
      "metadata": {
        "execution": {
          "iopub.execute_input": "2023-12-27T08:01:14.554647Z",
          "iopub.status.busy": "2023-12-27T08:01:14.553689Z",
          "iopub.status.idle": "2023-12-27T08:01:14.778415Z",
          "shell.execute_reply": "2023-12-27T08:01:14.777165Z"
        },
        "papermill": {
          "duration": 0.370854,
          "end_time": "2023-12-27T08:01:14.781588",
          "exception": false,
          "start_time": "2023-12-27T08:01:14.410734",
          "status": "completed"
        },
        "tags": [],
        "id": "18324b25"
      },
      "outputs": [],
      "source": [
        "model_1=Sequential()\n",
        "model_1.add(Conv2D(32,(3,3),input_shape=(120,120,3),activation=\"relu\"))\n",
        "model_1.add(Flatten())\n",
        "model_1.add(Dense(4,activation=\"softmax\"))\n",
        "\n",
        "\n",
        "model_2=Sequential()\n",
        "model_2.add(Conv2D(32,(3,3),input_shape=(120,120,3),activation=\"relu\"))\n",
        "model_2.add(MaxPooling2D(pool_size=(3,3)))\n",
        "model_2.add(Flatten())\n",
        "model_2.add(Dense(256,activation=\"relu\"))\n",
        "model_2.add(Dense(4,activation=\"softmax\"))\n",
        "\n",
        "model_3=Sequential()\n",
        "model_3.add(Conv2D(32,(3,3),input_shape=(120,120,3),activation=\"relu\"))\n",
        "model_3.add(MaxPooling2D(pool_size=(3,3)))\n",
        "model_3.add(Conv2D(64,(3,3),activation=\"relu\"))\n",
        "model_3.add(MaxPooling2D(pool_size=(3,3)))\n",
        "model_3.add(Conv2D(64,(3,3),activation=\"relu\"))\n",
        "model_3.add(MaxPooling2D(pool_size=(4,4)))\n",
        "model_3.add(Flatten())\n",
        "model_3.add(Dense(128,activation=\"relu\"))\n",
        "model_3.add(Dropout(0.2))\n",
        "model_3.add(Dense(128,activation=\"relu\"))\n",
        "model_3.add(Dropout(0.2))\n",
        "model_3.add(Dense(256,activation=\"relu\"))\n",
        "model_3.add(Dense(4,activation=\"softmax\"))"
      ]
    },
    {
      "cell_type": "code",
      "execution_count": 94,
      "id": "23f55887",
      "metadata": {
        "execution": {
          "iopub.execute_input": "2023-12-27T08:01:15.065695Z",
          "iopub.status.busy": "2023-12-27T08:01:15.064910Z",
          "iopub.status.idle": "2023-12-27T08:01:15.088258Z",
          "shell.execute_reply": "2023-12-27T08:01:15.086840Z"
        },
        "papermill": {
          "duration": 0.167666,
          "end_time": "2023-12-27T08:01:15.091483",
          "exception": false,
          "start_time": "2023-12-27T08:01:14.923817",
          "status": "completed"
        },
        "tags": [],
        "id": "23f55887",
        "colab": {
          "base_uri": "https://localhost:8080/"
        },
        "outputId": "155de3ab-d574-4873-c676-73cf6b6a291e"
      },
      "outputs": [
        {
          "output_type": "stream",
          "name": "stdout",
          "text": [
            "------------------------------------------------\n",
            "MODEL 1\n",
            "Epoch 1/10\n",
            "7/7 [==============================] - 2s 182ms/step - loss: 13.8415 - accuracy: 0.2972 - val_loss: 2.0006 - val_accuracy: 0.4848\n",
            "Epoch 2/10\n",
            "7/7 [==============================] - 0s 36ms/step - loss: 5.4272 - accuracy: 0.3853 - val_loss: 2.8268 - val_accuracy: 0.4848\n",
            "Epoch 3/10\n",
            "7/7 [==============================] - 0s 37ms/step - loss: 1.7927 - accuracy: 0.3751 - val_loss: 1.5211 - val_accuracy: 0.3030\n",
            "Epoch 4/10\n",
            "7/7 [==============================] - 0s 36ms/step - loss: 1.0849 - accuracy: 0.5333 - val_loss: 0.9296 - val_accuracy: 0.6465\n",
            "Epoch 5/10\n",
            "7/7 [==============================] - 0s 37ms/step - loss: 0.9137 - accuracy: 0.6090 - val_loss: 0.8942 - val_accuracy: 0.6162\n",
            "Epoch 6/10\n",
            "7/7 [==============================] - 0s 35ms/step - loss: 0.7991 - accuracy: 0.6904 - val_loss: 0.7388 - val_accuracy: 0.7374\n",
            "Epoch 7/10\n",
            "7/7 [==============================] - 0s 36ms/step - loss: 0.6213 - accuracy: 0.7751 - val_loss: 0.5991 - val_accuracy: 0.8182\n",
            "Epoch 8/10\n",
            "7/7 [==============================] - 0s 35ms/step - loss: 0.4680 - accuracy: 0.8531 - val_loss: 0.5231 - val_accuracy: 0.8687\n",
            "Epoch 9/10\n",
            "7/7 [==============================] - 0s 37ms/step - loss: 0.3634 - accuracy: 0.9006 - val_loss: 0.4645 - val_accuracy: 0.8889\n",
            "Epoch 10/10\n",
            "7/7 [==============================] - 0s 33ms/step - loss: 0.2983 - accuracy: 0.9333 - val_loss: 0.4809 - val_accuracy: 0.8687\n",
            "------------------------------------------------\n",
            "MODEL 2\n",
            "Epoch 1/10\n",
            "7/7 [==============================] - 2s 73ms/step - loss: 7.5001 - accuracy: 0.3164 - val_loss: 3.3213 - val_accuracy: 0.3232\n",
            "Epoch 2/10\n",
            "7/7 [==============================] - 0s 39ms/step - loss: 3.2521 - accuracy: 0.3458 - val_loss: 2.0578 - val_accuracy: 0.3737\n",
            "Epoch 3/10\n",
            "7/7 [==============================] - 0s 39ms/step - loss: 1.2233 - accuracy: 0.5017 - val_loss: 0.9804 - val_accuracy: 0.5354\n",
            "Epoch 4/10\n",
            "7/7 [==============================] - 0s 38ms/step - loss: 0.8559 - accuracy: 0.6169 - val_loss: 0.8086 - val_accuracy: 0.6667\n",
            "Epoch 5/10\n",
            "7/7 [==============================] - 0s 36ms/step - loss: 0.7569 - accuracy: 0.6881 - val_loss: 0.7671 - val_accuracy: 0.7273\n",
            "Epoch 6/10\n",
            "7/7 [==============================] - 0s 38ms/step - loss: 0.6702 - accuracy: 0.7774 - val_loss: 0.6852 - val_accuracy: 0.7576\n",
            "Epoch 7/10\n",
            "7/7 [==============================] - 0s 38ms/step - loss: 0.5800 - accuracy: 0.8023 - val_loss: 0.6300 - val_accuracy: 0.7879\n",
            "Epoch 8/10\n",
            "7/7 [==============================] - 0s 37ms/step - loss: 0.5030 - accuracy: 0.8350 - val_loss: 0.5729 - val_accuracy: 0.8182\n",
            "Epoch 9/10\n",
            "7/7 [==============================] - 0s 37ms/step - loss: 0.4328 - accuracy: 0.8780 - val_loss: 0.5539 - val_accuracy: 0.8081\n",
            "Epoch 10/10\n",
            "7/7 [==============================] - 0s 36ms/step - loss: 0.3763 - accuracy: 0.9017 - val_loss: 0.4993 - val_accuracy: 0.8586\n",
            "------------------------------------------------\n",
            "MODEL 3\n",
            "Epoch 1/10\n",
            "7/7 [==============================] - 5s 180ms/step - loss: 1.3666 - accuracy: 0.3096 - val_loss: 1.3376 - val_accuracy: 0.3636\n",
            "Epoch 2/10\n",
            "7/7 [==============================] - 0s 41ms/step - loss: 1.3279 - accuracy: 0.3876 - val_loss: 1.2715 - val_accuracy: 0.4242\n",
            "Epoch 3/10\n",
            "7/7 [==============================] - 0s 42ms/step - loss: 1.2423 - accuracy: 0.4328 - val_loss: 1.1525 - val_accuracy: 0.4646\n",
            "Epoch 4/10\n",
            "7/7 [==============================] - 0s 41ms/step - loss: 1.1043 - accuracy: 0.4836 - val_loss: 1.0801 - val_accuracy: 0.4444\n",
            "Epoch 5/10\n",
            "7/7 [==============================] - 0s 41ms/step - loss: 1.0604 - accuracy: 0.4689 - val_loss: 1.0170 - val_accuracy: 0.4646\n",
            "Epoch 6/10\n",
            "7/7 [==============================] - 0s 42ms/step - loss: 1.0204 - accuracy: 0.5186 - val_loss: 0.9944 - val_accuracy: 0.5253\n",
            "Epoch 7/10\n",
            "7/7 [==============================] - 0s 43ms/step - loss: 0.9681 - accuracy: 0.5480 - val_loss: 0.9556 - val_accuracy: 0.5455\n",
            "Epoch 8/10\n",
            "7/7 [==============================] - 0s 42ms/step - loss: 0.9414 - accuracy: 0.5492 - val_loss: 0.9255 - val_accuracy: 0.5657\n",
            "Epoch 9/10\n",
            "7/7 [==============================] - 0s 42ms/step - loss: 0.9251 - accuracy: 0.5514 - val_loss: 0.8756 - val_accuracy: 0.5758\n",
            "Epoch 10/10\n",
            "7/7 [==============================] - 0s 40ms/step - loss: 0.8963 - accuracy: 0.5593 - val_loss: 0.8350 - val_accuracy: 0.5960\n"
          ]
        }
      ],
      "source": [
        "i = 1\n",
        "for model in [model_1, model_2, model_3]:\n",
        "  print('------------------------------------------------')\n",
        "  print(f'MODEL {i}')\n",
        "  model.compile(loss=keras.losses.categorical_crossentropy, optimizer=keras.optimizers.Adam(),\n",
        "             metrics=[\"accuracy\"])\n",
        "  history = model.fit(X_train,y_train,epochs=10,validation_data=(X_test,y_test),batch_size=128,\n",
        "                    verbose=1)\n",
        "  i+=1"
      ]
    },
    {
      "cell_type": "markdown",
      "source": [
        "#МОДЕЛЬ 1, несмотря на простоту показала наилучший результат\n",
        "accuracy: 0.9333 - val_loss: 0.4809 - val_accuracy: 0.8687\n",
        "\n",
        "ПРИМИМ ЭТО КАК БАЗУ ДЛЯ УЛУЧШЕНИЯ"
      ],
      "metadata": {
        "id": "5JbpGMtVkUGX"
      },
      "id": "5JbpGMtVkUGX"
    },
    {
      "cell_type": "markdown",
      "source": [
        "#NEW MODEL"
      ],
      "metadata": {
        "id": "BUPE1DAUk7MP"
      },
      "id": "BUPE1DAUk7MP"
    },
    {
      "cell_type": "code",
      "source": [
        "from keras import callbacks\n",
        "\n",
        "model_new=Sequential()\n",
        "model_new.add(Conv2D(128,(3,3),input_shape=(120,120,3),activation=\"relu\"))\n",
        "#model_new.add(MaxPooling2D(pool_size=(3,3)))\n",
        "model_new.add(Flatten())\n",
        "model_new.add(Dense(4,activation=\"softmax\"))\n",
        "\n",
        "model_new.compile(\n",
        "    loss=keras.losses.categorical_crossentropy,\n",
        "    optimizer=keras.optimizers.Adam(),\n",
        "    metrics=[\"accuracy\"])\n",
        "\n",
        "callback1 = callbacks.EarlyStopping(\n",
        "                    monitor='val_accuracy',\n",
        "                    mode='max', min_delta=0.001,\n",
        "                    patience = 5)\n",
        "\n",
        "history = model_new.fit(X_train,y_train,epochs=100,validation_data=(X_test,y_test),batch_size=128,\n",
        "                    verbose=1, callbacks=[callback1])"
      ],
      "metadata": {
        "colab": {
          "base_uri": "https://localhost:8080/"
        },
        "id": "sffwkm4wlADb",
        "outputId": "02919801-18e7-4d4e-f488-521b73b6e899"
      },
      "id": "sffwkm4wlADb",
      "execution_count": 112,
      "outputs": [
        {
          "output_type": "stream",
          "name": "stdout",
          "text": [
            "Epoch 1/100\n",
            "7/7 [==============================] - 2s 131ms/step - loss: 27.8349 - accuracy: 0.2904 - val_loss: 21.2690 - val_accuracy: 0.2525\n",
            "Epoch 2/100\n",
            "7/7 [==============================] - 1s 90ms/step - loss: 9.7537 - accuracy: 0.3412 - val_loss: 3.1465 - val_accuracy: 0.3636\n",
            "Epoch 3/100\n",
            "7/7 [==============================] - 1s 91ms/step - loss: 1.6287 - accuracy: 0.4712 - val_loss: 0.9360 - val_accuracy: 0.5758\n",
            "Epoch 4/100\n",
            "7/7 [==============================] - 1s 92ms/step - loss: 0.8500 - accuracy: 0.6486 - val_loss: 0.8474 - val_accuracy: 0.6263\n",
            "Epoch 5/100\n",
            "7/7 [==============================] - 1s 91ms/step - loss: 0.6953 - accuracy: 0.7571 - val_loss: 0.6358 - val_accuracy: 0.7778\n",
            "Epoch 6/100\n",
            "7/7 [==============================] - 1s 91ms/step - loss: 0.5404 - accuracy: 0.8011 - val_loss: 0.5578 - val_accuracy: 0.8081\n",
            "Epoch 7/100\n",
            "7/7 [==============================] - 1s 91ms/step - loss: 0.3994 - accuracy: 0.8904 - val_loss: 0.5537 - val_accuracy: 0.8485\n",
            "Epoch 8/100\n",
            "7/7 [==============================] - 1s 92ms/step - loss: 0.3252 - accuracy: 0.9085 - val_loss: 0.5187 - val_accuracy: 0.8687\n",
            "Epoch 9/100\n",
            "7/7 [==============================] - 1s 92ms/step - loss: 0.2749 - accuracy: 0.9299 - val_loss: 0.4529 - val_accuracy: 0.8788\n",
            "Epoch 10/100\n",
            "7/7 [==============================] - 1s 91ms/step - loss: 0.2450 - accuracy: 0.9356 - val_loss: 0.4174 - val_accuracy: 0.8990\n",
            "Epoch 11/100\n",
            "7/7 [==============================] - 1s 92ms/step - loss: 0.1984 - accuracy: 0.9503 - val_loss: 0.4073 - val_accuracy: 0.8586\n",
            "Epoch 12/100\n",
            "7/7 [==============================] - 1s 93ms/step - loss: 0.1751 - accuracy: 0.9571 - val_loss: 0.4460 - val_accuracy: 0.8990\n",
            "Epoch 13/100\n",
            "7/7 [==============================] - 1s 90ms/step - loss: 0.1676 - accuracy: 0.9503 - val_loss: 0.4657 - val_accuracy: 0.8889\n",
            "Epoch 14/100\n",
            "7/7 [==============================] - 1s 91ms/step - loss: 0.1537 - accuracy: 0.9616 - val_loss: 0.3909 - val_accuracy: 0.9091\n",
            "Epoch 15/100\n",
            "7/7 [==============================] - 1s 95ms/step - loss: 0.1469 - accuracy: 0.9559 - val_loss: 0.4002 - val_accuracy: 0.8990\n",
            "Epoch 16/100\n",
            "7/7 [==============================] - 1s 103ms/step - loss: 0.1371 - accuracy: 0.9650 - val_loss: 0.3764 - val_accuracy: 0.8990\n",
            "Epoch 17/100\n",
            "7/7 [==============================] - 1s 103ms/step - loss: 0.1318 - accuracy: 0.9616 - val_loss: 0.4770 - val_accuracy: 0.8889\n",
            "Epoch 18/100\n",
            "7/7 [==============================] - 1s 98ms/step - loss: 0.1257 - accuracy: 0.9605 - val_loss: 0.4053 - val_accuracy: 0.9091\n",
            "Epoch 19/100\n",
            "7/7 [==============================] - 1s 91ms/step - loss: 0.1324 - accuracy: 0.9661 - val_loss: 0.4422 - val_accuracy: 0.9091\n"
          ]
        }
      ]
    },
    {
      "cell_type": "markdown",
      "source": [
        "Благоприятно влияет:\n",
        "1 увеличение количества эпох (EarlyStopping)\n",
        "2\n",
        "\n",
        "Негативно:"
      ],
      "metadata": {
        "id": "ZsFPox5TmZPT"
      },
      "id": "ZsFPox5TmZPT"
    },
    {
      "cell_type": "code",
      "execution_count": 113,
      "id": "3ce4a90a",
      "metadata": {
        "execution": {
          "iopub.execute_input": "2023-12-27T08:15:46.204363Z",
          "iopub.status.busy": "2023-12-27T08:15:46.203842Z",
          "iopub.status.idle": "2023-12-27T08:15:46.631199Z",
          "shell.execute_reply": "2023-12-27T08:15:46.630066Z"
        },
        "papermill": {
          "duration": 0.695446,
          "end_time": "2023-12-27T08:15:46.633889",
          "exception": false,
          "start_time": "2023-12-27T08:15:45.938443",
          "status": "completed"
        },
        "tags": [],
        "id": "3ce4a90a",
        "outputId": "c59e9306-eab0-49ca-e223-c2ba1c0ae6e2",
        "colab": {
          "base_uri": "https://localhost:8080/",
          "height": 470
        }
      },
      "outputs": [
        {
          "output_type": "execute_result",
          "data": {
            "text/plain": [
              "<Axes: title={'center': 'Loss curve'}>"
            ]
          },
          "metadata": {},
          "execution_count": 113
        },
        {
          "output_type": "display_data",
          "data": {
            "text/plain": [
              "<Figure size 640x480 with 1 Axes>"
            ],
            "image/png": "[encoded data removed]"
          },
          "metadata": {}
        }
      ],
      "source": [
        "history_df = pd.DataFrame(history.history)\n",
        "history_df.loc[:, ['loss', 'val_loss']].plot(title = 'Loss curve')"
      ]
    },
    {
      "cell_type": "code",
      "execution_count": 114,
      "id": "556c363e",
      "metadata": {
        "execution": {
          "iopub.execute_input": "2023-12-27T08:15:47.168712Z",
          "iopub.status.busy": "2023-12-27T08:15:47.167859Z",
          "iopub.status.idle": "2023-12-27T08:15:47.557349Z",
          "shell.execute_reply": "2023-12-27T08:15:47.556066Z"
        },
        "papermill": {
          "duration": 0.659639,
          "end_time": "2023-12-27T08:15:47.560266",
          "exception": false,
          "start_time": "2023-12-27T08:15:46.900627",
          "status": "completed"
        },
        "tags": [],
        "id": "556c363e",
        "outputId": "61ebf8ec-dc2f-4cad-d42b-4877ae6167df",
        "colab": {
          "base_uri": "https://localhost:8080/",
          "height": 470
        }
      },
      "outputs": [
        {
          "output_type": "execute_result",
          "data": {
            "text/plain": [
              "<Axes: title={'center': 'Accuracy curve'}>"
            ]
          },
          "metadata": {},
          "execution_count": 114
        },
        {
          "output_type": "display_data",
          "data": {
            "text/plain": [
              "<Figure size 640x480 with 1 Axes>"
            ],
            "image/png": "[encoded data removed]"
          },
          "metadata": {}
        }
      ],
      "source": [
        "history_df = pd.DataFrame(history.history)\n",
        "history_df.loc[:, ['accuracy', 'val_accuracy']].plot(title = 'Accuracy curve')"
      ]
    },
    {
      "cell_type": "code",
      "execution_count": 115,
      "id": "47ab22c2",
      "metadata": {
        "id": "47ab22c2",
        "papermill": {
          "duration": null,
          "end_time": null,
          "exception": null,
          "start_time": null,
          "status": "pending"
        },
        "tags": [],
        "colab": {
          "base_uri": "https://localhost:8080/"
        },
        "outputId": "0b1fef7a-9f83-4f47-8e83-a7b3f582adc9"
      },
      "outputs": [
        {
          "output_type": "stream",
          "name": "stdout",
          "text": [
            "4/4 [==============================] - 0s 32ms/step - loss: 0.4422 - accuracy: 0.9091\n",
            "[+] Accuracy: 90.91%\n"
          ]
        }
      ],
      "source": [
        "result = model_new.evaluate(X_test, y_test)\n",
        "\n",
        "loss = result[0]\n",
        "accuracy = result[1]\n",
        "print(f\"[+] Accuracy: {accuracy*100:.2f}%\")"
      ]
    },
    {
      "cell_type": "markdown",
      "id": "db6f41a7",
      "metadata": {
        "papermill": {
          "duration": null,
          "end_time": null,
          "exception": null,
          "start_time": null,
          "status": "pending"
        },
        "tags": [],
        "id": "db6f41a7"
      },
      "source": [
        "# Архитектура созданной нейронной сети"
      ]
    },
    {
      "cell_type": "code",
      "execution_count": 117,
      "id": "b0f644e3",
      "metadata": {
        "papermill": {
          "duration": null,
          "end_time": null,
          "exception": null,
          "start_time": null,
          "status": "pending"
        },
        "tags": [],
        "id": "b0f644e3",
        "colab": {
          "base_uri": "https://localhost:8080/"
        },
        "outputId": "78ff22f3-3a6e-4ae1-c1f1-901160c6c91d"
      },
      "outputs": [
        {
          "output_type": "stream",
          "name": "stdout",
          "text": [
            "Model: \"sequential_24\"\n",
            "_________________________________________________________________\n",
            " Layer (type)                Output Shape              Param #   \n",
            "=================================================================\n",
            " conv2d_28 (Conv2D)          (None, 118, 118, 128)     3584      \n",
            "                                                                 \n",
            " flatten_24 (Flatten)        (None, 1782272)           0         \n",
            "                                                                 \n",
            " dense_40 (Dense)            (None, 4)                 7129092   \n",
            "                                                                 \n",
            "=================================================================\n",
            "Total params: 7132676 (27.21 MB)\n",
            "Trainable params: 7132676 (27.21 MB)\n",
            "Non-trainable params: 0 (0.00 Byte)\n",
            "_________________________________________________________________\n"
          ]
        }
      ],
      "source": [
        "model_new.summary()"
      ]
    },
    {
      "cell_type": "markdown",
      "id": "822bf4d1",
      "metadata": {
        "papermill": {
          "duration": null,
          "end_time": null,
          "exception": null,
          "start_time": null,
          "status": "pending"
        },
        "tags": [],
        "id": "822bf4d1"
      },
      "source": [
        "# описание архитектуры нейронной сети"
      ]
    },
    {
      "cell_type": "markdown",
      "id": "eaddca5f",
      "metadata": {
        "papermill": {
          "duration": null,
          "end_time": null,
          "exception": null,
          "start_time": null,
          "status": "pending"
        },
        "tags": [],
        "id": "eaddca5f"
      },
      "source": [
        "У нас тут многослойная нейронная сеть с разными типами слоев.\n",
        "\n",
        "теперь по поводу слоев нейронной сети и их особенностей.\n",
        "\n",
        "1 слой - Conv2D. Он используется для выполнения двумерной свертки входных данных. Он применяет набор фильтров к входному изображению или карте объектов, перемещая их по входным данным и вычисляя скалярное произведение в каждом месте. Эта операция позволяет слою извлекать объекты и фиксировать пространственные отношения во входных данных. Уровень Conv2D обычно используется в сверточных нейронных сетях (CNN) для таких задач, как классификация изображений, обнаружение объектов и сегментация изображений.\n",
        "\n",
        "2 слой - MaxPooling2D.  Это  операция понижающей дискретизации, которая уменьшает пространственные размеры (ширину и высоту) входного изображения или карты объектов. Он делит входные данные на непересекающиеся прямоугольники и выводит максимальное значение внутри каждого прямоугольника. Это помогает извлечь наиболее важные функции и снизить вычислительные требования для последующих слоев.\n",
        "\n",
        "Далее эти слои повторяются еще 2 раза.\n",
        "\n",
        "7 слой - Flatten. он преобразует входной тензор в одномерный массив, эффективно выравнивая его. Он принимает многомерный входной тензор, например двумерное изображение, и преобразует его в одномерный вектор, который можно использовать в качестве входных данных для полностью связного слоя или любого другого слоя, который ожидает одномерных входных данных.\n",
        "\n",
        "8 слой - Dense. это полностью связный слой, который соединяет каждый нейрон предыдущего слоя с каждым нейроном текущего слоя. Он выполняет линейную операцию над входными данными, за которой следует функция активации, позволяющая сети изучать сложные закономерности и взаимосвязи в данных. Количество нейронов в плотном слое определяет размерность вывода.\n",
        "\n",
        "9 cлой - Dropout. это метод регуляризации, используемый для уменьшения переобучения в нейронных сетях. Он случайным образом устанавливает для части входных единиц значение 0 на каждом этапе обучения, что помогает предотвратить слишком большую зависимость сети от конкретных функций или корреляций. Dropout улучшает способность модели к обобщению за счет внесения шума во время обучения и побуждает сеть изучать более надежные и независимые представления.\n",
        "\n",
        "Далее слои повторяются.\n",
        "\n",
        "В итоге в данной нейронной сети 12 различных слоев, и 139 780 параметров."
      ]
    }
  ],
  "metadata": {
    "accelerator": "GPU",
    "colab": {
      "gpuType": "T4",
      "provenance": [],
      "include_colab_link": true
    },
    "kaggle": {
      "accelerator": "none",
      "dataSources": [
        {
          "databundleVersionId": 862020,
          "sourceId": 14241,
          "sourceType": "competition"
        }
      ],
      "dockerImageVersionId": 30626,
      "isGpuEnabled": false,
      "isInternetEnabled": true,
      "language": "python",
      "sourceType": "notebook"
    },
    "kernelspec": {
      "display_name": "Python 3",
      "language": "python",
      "name": "python3"
    },
    "language_info": {
      "codemirror_mode": {
        "name": "ipython",
        "version": 3
      },
      "file_extension": ".py",
      "mimetype": "text/x-python",
      "name": "python",
      "nbconvert_exporter": "python",
      "pygments_lexer": "ipython3",
      "version": "3.10.12"
    },
    "papermill": {
      "default_parameters": {},
      "duration": 1062.742156,
      "end_time": "2023-12-27T08:15:53.589044",
      "environment_variables": {},
      "exception": true,
      "input_path": "__notebook__.ipynb",
      "output_path": "__notebook__.ipynb",
      "parameters": {},
      "start_time": "2023-12-27T07:58:10.846888",
      "version": "2.2.2"
    }
  },
  "nbformat": 4,
  "nbformat_minor": 5
}