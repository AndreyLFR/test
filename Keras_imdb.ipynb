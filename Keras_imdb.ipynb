{
  "nbformat": 4,
  "nbformat_minor": 0,
  "metadata": {
    "colab": {
      "provenance": [],
      "authorship_tag": "ABX9TyOrvpMfJ9jsn10tfTLE+M5a",
      "include_colab_link": true
    },
    "kernelspec": {
      "name": "python3",
      "display_name": "Python 3"
    },
    "language_info": {
      "name": "python"
    }
  },
  "cells": [
    {
      "cell_type": "markdown",
      "metadata": {
        "id": "view-in-github",
        "colab_type": "text"
      },
      "source": [
        "<a href=\"https://colab.research.google.com/github/AndreyLFR/test/blob/main/Keras_imdb.ipynb\" target=\"_parent\"><img src=\"https://colab.research.google.com/assets/colab-badge.svg\" alt=\"Open In Colab\"/></a>"
      ]
    },
    {
      "cell_type": "code",
      "execution_count": 29,
      "metadata": {
        "id": "mGhLtinAY6XY"
      },
      "outputs": [],
      "source": [
        "from keras.datasets import imdb\n",
        "from keras.utils import to_categorical\n",
        "from keras import models\n",
        "import numpy as np\n",
        "import keras\n",
        "from keras.layers import *\n",
        "from keras import callbacks\n"
      ]
    },
    {
      "cell_type": "code",
      "source": [
        "num_words = 10000"
      ],
      "metadata": {
        "id": "ov7PWJBjqDMh"
      },
      "execution_count": 14,
      "outputs": []
    },
    {
      "cell_type": "code",
      "source": [
        "(training_data, training_targets), (testing_data, testing_targets) = imdb.load_data(num_words=num_words)\n",
        "data = np.concatenate((training_data, testing_data), axis=0)\n",
        "targets = np.concatenate((training_targets, testing_targets), axis=0)"
      ],
      "metadata": {
        "id": "VrXqOL3hZeEW"
      },
      "execution_count": 15,
      "outputs": []
    },
    {
      "cell_type": "markdown",
      "source": [
        "Тестовые данные разделены 50 на 50. Для лучшего обучения решил сначала объединить все данные, а потом разбить в другой пропорции - 20% test"
      ],
      "metadata": {
        "id": "RKr5OvpEoWej"
      }
    },
    {
      "cell_type": "code",
      "source": [
        "print(\"Categories:\", np.unique(targets))\n",
        "print(\"Number of unique words:\", len(np.unique(np.hstack(data))))"
      ],
      "metadata": {
        "colab": {
          "base_uri": "https://localhost:8080/"
        },
        "id": "QgSiUb2ilBpQ",
        "outputId": "44206e29-1a52-431a-a187-8c40ca66624f"
      },
      "execution_count": 16,
      "outputs": [
        {
          "output_type": "stream",
          "name": "stdout",
          "text": [
            "Categories: [0 1]\n",
            "Number of unique words: 9998\n"
          ]
        }
      ]
    },
    {
      "cell_type": "code",
      "source": [
        "print(\"Label:\", targets[0])\n",
        "print(data[0])"
      ],
      "metadata": {
        "colab": {
          "base_uri": "https://localhost:8080/"
        },
        "id": "V_5NUeLalJhZ",
        "outputId": "60e6f9b5-2abe-430a-8e27-8a5e45d0866d"
      },
      "execution_count": 17,
      "outputs": [
        {
          "output_type": "stream",
          "name": "stdout",
          "text": [
            "Label: 1\n",
            "[1, 14, 22, 16, 43, 530, 973, 1622, 1385, 65, 458, 4468, 66, 3941, 4, 173, 36, 256, 5, 25, 100, 43, 838, 112, 50, 670, 2, 9, 35, 480, 284, 5, 150, 4, 172, 112, 167, 2, 336, 385, 39, 4, 172, 4536, 1111, 17, 546, 38, 13, 447, 4, 192, 50, 16, 6, 147, 2025, 19, 14, 22, 4, 1920, 4613, 469, 4, 22, 71, 87, 12, 16, 43, 530, 38, 76, 15, 13, 1247, 4, 22, 17, 515, 17, 12, 16, 626, 18, 2, 5, 62, 386, 12, 8, 316, 8, 106, 5, 4, 2223, 5244, 16, 480, 66, 3785, 33, 4, 130, 12, 16, 38, 619, 5, 25, 124, 51, 36, 135, 48, 25, 1415, 33, 6, 22, 12, 215, 28, 77, 52, 5, 14, 407, 16, 82, 2, 8, 4, 107, 117, 5952, 15, 256, 4, 2, 7, 3766, 5, 723, 36, 71, 43, 530, 476, 26, 400, 317, 46, 7, 4, 2, 1029, 13, 104, 88, 4, 381, 15, 297, 98, 32, 2071, 56, 26, 141, 6, 194, 7486, 18, 4, 226, 22, 21, 134, 476, 26, 480, 5, 144, 30, 5535, 18, 51, 36, 28, 224, 92, 25, 104, 4, 226, 65, 16, 38, 1334, 88, 12, 16, 283, 5, 16, 4472, 113, 103, 32, 15, 16, 5345, 19, 178, 32]\n"
          ]
        }
      ]
    },
    {
      "cell_type": "code",
      "source": [
        "index = imdb.get_word_index()\n",
        "reverse_index = dict([(value, key) for (key, value) in index.items()])\n",
        "decoded = \" \".join( [reverse_index.get(i - 3, \"#\") for i in data[0]] )\n",
        "print(decoded)"
      ],
      "metadata": {
        "colab": {
          "base_uri": "https://localhost:8080/"
        },
        "id": "rgeS3xPYlXUt",
        "outputId": "30214385-6ce8-4b48-a142-ca318959f65d"
      },
      "execution_count": 18,
      "outputs": [
        {
          "output_type": "stream",
          "name": "stdout",
          "text": [
            "# this film was just brilliant casting location scenery story direction everyone's really suited the part they played and you could just imagine being there robert # is an amazing actor and now the same being director # father came from the same scottish island as myself so i loved the fact there was a real connection with this film the witty remarks throughout the film were great it was just brilliant so much that i bought the film as soon as it was released for # and would recommend it to everyone to watch and the fly fishing was amazing really cried at the end it was so sad and you know what they say if you cry at a film it must have been good and this definitely was also # to the two little boy's that played the # of norman and paul they were just brilliant children are often left out of the # list i think because the stars that play them all grown up are such a big profile for the whole film but these children are amazing and should be praised for what they have done don't you think the whole story was so lovely because it was true and was someone's life after all that was shared with us all\n"
          ]
        }
      ]
    },
    {
      "cell_type": "code",
      "source": [
        "def vectorize(sequences, dimension = num_words):\n",
        "  results = np.zeros((len(sequences), dimension))\n",
        "  for i, sequence in enumerate(sequences):\n",
        "    results[i, sequence] = 1\n",
        "  return results\n",
        "\n",
        "data = vectorize(data)\n",
        "targets = np.array(targets).astype(\"float32\")"
      ],
      "metadata": {
        "id": "snqfUu_7mEZ0"
      },
      "execution_count": 19,
      "outputs": []
    },
    {
      "cell_type": "code",
      "source": [
        "print(data.shape[0])\n",
        "print(targets.shape[0])"
      ],
      "metadata": {
        "colab": {
          "base_uri": "https://localhost:8080/"
        },
        "id": "dldl0M-Vo4xn",
        "outputId": "ef3a1298-93a8-4b11-c5a3-66e69b5092bf"
      },
      "execution_count": 20,
      "outputs": [
        {
          "output_type": "stream",
          "name": "stdout",
          "text": [
            "50000\n",
            "50000\n"
          ]
        }
      ]
    },
    {
      "cell_type": "code",
      "source": [
        "test_sample_share = 0.2\n",
        "delimiter = int(data.shape[0] * test_sample_share)\n",
        "\n",
        "test_x = data[:delimiter]\n",
        "test_y = targets[:delimiter]\n",
        "train_x = data[delimiter:]\n",
        "train_y = targets[delimiter:]"
      ],
      "metadata": {
        "id": "Mccqb5i_ozhK"
      },
      "execution_count": 22,
      "outputs": []
    },
    {
      "cell_type": "code",
      "source": [
        "data.shape"
      ],
      "metadata": {
        "colab": {
          "base_uri": "https://localhost:8080/"
        },
        "id": "4Ym29U7TufNs",
        "outputId": "e302521c-f162-4308-c0de-76376de9024a"
      },
      "execution_count": 25,
      "outputs": [
        {
          "output_type": "execute_result",
          "data": {
            "text/plain": [
              "(50000, 10000)"
            ]
          },
          "metadata": {},
          "execution_count": 25
        }
      ]
    },
    {
      "cell_type": "code",
      "source": [
        "input_shape = data.shape[1]\n",
        "\n",
        "model = keras.Sequential([\n",
        "      keras.Input(shape=(input_shape,)),\n",
        "      Dense(50,activation = 'relu'), # количество входных нейронов\n",
        "      Dropout(0.3, noise_shape=None, seed=None),\n",
        "      Dense(50,activation = 'relu'),\n",
        "      Dropout(0.2, noise_shape=None, seed=None),\n",
        "      Dense(1, activation = 'sigmoid')   # количество выходных нейронов\n",
        "      ] )\n",
        "\n",
        "model.compile(optimizer='adam',\n",
        "             loss='binary_crossentropy',\n",
        "             metrics=['accuracy'])\n",
        "\n",
        "callback1 = callbacks.EarlyStopping(\n",
        "                    monitor='val_accuracy',\n",
        "                    mode='max', min_delta=0.001,\n",
        "                    patience = 5)\n",
        "\n",
        "history = model.fit(train_x, train_y, batch_size=32, epochs=20,validation_data =(test_x, test_y), callbacks=[callback1] )\n"
      ],
      "metadata": {
        "colab": {
          "base_uri": "https://localhost:8080/"
        },
        "id": "4RahcVfbsOXU",
        "outputId": "43c70bff-3c3f-4b06-951f-8ba4bbd8e196"
      },
      "execution_count": 31,
      "outputs": [
        {
          "output_type": "stream",
          "name": "stdout",
          "text": [
            "Epoch 1/100\n",
            "1250/1250 [==============================] - 16s 12ms/step - loss: 0.3170 - accuracy: 0.8652 - val_loss: 0.2620 - val_accuracy: 0.8938\n",
            "Epoch 2/100\n",
            "1250/1250 [==============================] - 14s 11ms/step - loss: 0.1994 - accuracy: 0.9217 - val_loss: 0.2822 - val_accuracy: 0.8902\n",
            "Epoch 3/100\n",
            "1250/1250 [==============================] - 14s 11ms/step - loss: 0.1443 - accuracy: 0.9453 - val_loss: 0.3211 - val_accuracy: 0.8856\n",
            "Epoch 4/100\n",
            "1250/1250 [==============================] - 14s 11ms/step - loss: 0.0972 - accuracy: 0.9640 - val_loss: 0.3959 - val_accuracy: 0.8813\n",
            "Epoch 5/100\n",
            "1250/1250 [==============================] - 14s 11ms/step - loss: 0.0686 - accuracy: 0.9750 - val_loss: 0.4880 - val_accuracy: 0.8830\n",
            "Epoch 6/100\n",
            "1250/1250 [==============================] - 14s 11ms/step - loss: 0.0560 - accuracy: 0.9797 - val_loss: 0.5233 - val_accuracy: 0.8831\n"
          ]
        }
      ]
    }
  ]
}