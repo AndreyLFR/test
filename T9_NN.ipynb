{
  "nbformat": 4,
  "nbformat_minor": 0,
  "metadata": {
    "colab": {
      "provenance": [],
      "include_colab_link": true
    },
    "kernelspec": {
      "name": "python3",
      "display_name": "Python 3"
    },
    "language_info": {
      "name": "python"
    }
  },
  "cells": [
    {
      "cell_type": "markdown",
      "metadata": {
        "id": "view-in-github",
        "colab_type": "text"
      },
      "source": [
        "<a href=\"https://colab.research.google.com/github/AndreyLFR/test/blob/main/T9_NN.ipynb\" target=\"_parent\"><img src=\"https://colab.research.google.com/assets/colab-badge.svg\" alt=\"Open In Colab\"/></a>"
      ]
    },
    {
      "cell_type": "markdown",
      "source": [
        "# Предсказание следующих букв"
      ],
      "metadata": {
        "id": "mXLNbD6YGFOd"
      }
    },
    {
      "cell_type": "code",
      "source": [
        "import re\n",
        "import keras\n",
        "import numpy as np\n",
        "from keras.preprocessing.text import Tokenizer\n",
        "from keras.layers import *\n",
        "from keras.models import Sequential\n",
        "from keras import callbacks"
      ],
      "metadata": {
        "id": "PH_mcB21EoxE"
      },
      "execution_count": 13,
      "outputs": []
    },
    {
      "cell_type": "markdown",
      "source": [
        "Получаем данные для обучения - текст"
      ],
      "metadata": {
        "id": "IRaveHHWGLti"
      }
    },
    {
      "cell_type": "code",
      "execution_count": 14,
      "metadata": {
        "id": "bJQINrKnDqju",
        "colab": {
          "base_uri": "https://localhost:8080/"
        },
        "outputId": "8c26d599-7354-44fe-f957-4be99b821a73"
      },
      "outputs": [
        {
          "output_type": "stream",
          "name": "stdout",
          "text": [
            "Вы  лучший ответ на проблемы которые возникли в понедельник Думайте позитивно и верьте в свою способность достигать отличных результатов Если вы смогли в понедельник подняться с постели значит вы супер герой \n"
          ]
        }
      ],
      "source": [
        "with open('/content/sample_data/train_data.txt', 'r', encoding='utf-8') as f:\n",
        "    text = f.read()\n",
        "    text = text.replace('\\ufeff', '') # убираем первый невидимый символ\n",
        "    text = re.sub(r'[^А-я .]', '', text) # убираем все недопустимые символы\n",
        "    text = text.replace('.', ' ')\n",
        "    print(text)"
      ]
    },
    {
      "cell_type": "code",
      "source": [
        "num_characters = 34 #33 буквы + пробел\n",
        "inp_chars = 8 #количество символов, которые вводятся пользователем\n",
        "outp_chars = 3 #количество символов, которые будем предсказывать"
      ],
      "metadata": {
        "id": "IJD76YJ4E6z0"
      },
      "execution_count": 15,
      "outputs": []
    },
    {
      "cell_type": "code",
      "source": [
        "tokenizer = Tokenizer(num_words=num_characters, char_level=True)\n",
        "tokenizer.fit_on_texts(text)\n",
        "print(tokenizer.word_index)\n",
        "data_chars = tokenizer.texts_to_matrix(text)"
      ],
      "metadata": {
        "id": "appv1wfpIJvH",
        "colab": {
          "base_uri": "https://localhost:8080/"
        },
        "outputId": "d3b25a8f-bc86-4ad1-9c1f-38fa645bc6cf"
      },
      "execution_count": 16,
      "outputs": [
        {
          "output_type": "stream",
          "name": "stdout",
          "text": [
            "{' ': 1, 'о': 2, 'т': 3, 'е': 4, 'и': 5, 'в': 6, 'н': 7, 'с': 8, 'л': 9, 'п': 10, 'ь': 11, 'ы': 12, 'р': 13, 'а': 14, 'д': 15, 'у': 16, 'к': 17, 'з': 18, 'ч': 19, 'й': 20, 'м': 21, 'г': 22, 'б': 23, 'я': 24, 'ш': 25, 'ю': 26, 'х': 27}\n"
          ]
        }
      ]
    },
    {
      "cell_type": "code",
      "source": [
        "X_train = np.array([data_chars[i:i+inp_chars, :] for i in range(data_chars.shape[0]-inp_chars)])\n",
        "Y_train = data_chars[inp_chars:]"
      ],
      "metadata": {
        "id": "_nG7M5RIKsfs"
      },
      "execution_count": 17,
      "outputs": []
    },
    {
      "cell_type": "code",
      "source": [
        "model_chars = Sequential()\n",
        "model_chars.add(Input((inp_chars, num_characters)))\n",
        "model_chars.add(SimpleRNN(500, activation='tanh'))\n",
        "model_chars.add(Dense(num_characters, activation='softmax'))\n",
        "#model_chars.summary()\n",
        "\n",
        "model_chars.compile(loss='categorical_crossentropy', metrics=['accuracy'], optimizer='adam')\n",
        "\n",
        "callb = callbacks.EarlyStopping(\n",
        "                    monitor='accuracy',\n",
        "                    mode='max', min_delta=0.001,\n",
        "                    patience = 5)\n",
        "\n",
        "history = model_chars.fit(X_train, Y_train, batch_size=32, epochs=50, callbacks=callb)"
      ],
      "metadata": {
        "colab": {
          "base_uri": "https://localhost:8080/"
        },
        "id": "gwyYcqGiLXPE",
        "outputId": "17a3263d-367d-4862-9826-2bd803db078f"
      },
      "execution_count": 18,
      "outputs": [
        {
          "output_type": "stream",
          "name": "stdout",
          "text": [
            "Epoch 1/50\n",
            "7/7 [==============================] - 1s 20ms/step - loss: 3.3951 - accuracy: 0.0950\n",
            "Epoch 2/50\n",
            "7/7 [==============================] - 0s 20ms/step - loss: 2.3121 - accuracy: 0.3800\n",
            "Epoch 3/50\n",
            "7/7 [==============================] - 0s 19ms/step - loss: 1.7092 - accuracy: 0.5300\n",
            "Epoch 4/50\n",
            "7/7 [==============================] - 0s 19ms/step - loss: 1.2892 - accuracy: 0.6450\n",
            "Epoch 5/50\n",
            "7/7 [==============================] - 0s 22ms/step - loss: 1.0966 - accuracy: 0.7200\n",
            "Epoch 6/50\n",
            "7/7 [==============================] - 0s 22ms/step - loss: 0.8126 - accuracy: 0.8300\n",
            "Epoch 7/50\n",
            "7/7 [==============================] - 0s 20ms/step - loss: 0.6793 - accuracy: 0.8400\n",
            "Epoch 8/50\n",
            "7/7 [==============================] - 0s 20ms/step - loss: 0.5845 - accuracy: 0.8550\n",
            "Epoch 9/50\n",
            "7/7 [==============================] - 0s 19ms/step - loss: 0.4720 - accuracy: 0.9000\n",
            "Epoch 10/50\n",
            "7/7 [==============================] - 0s 19ms/step - loss: 0.4688 - accuracy: 0.8800\n",
            "Epoch 11/50\n",
            "7/7 [==============================] - 0s 19ms/step - loss: 0.4366 - accuracy: 0.9000\n",
            "Epoch 12/50\n",
            "7/7 [==============================] - 0s 19ms/step - loss: 0.3675 - accuracy: 0.9450\n",
            "Epoch 13/50\n",
            "7/7 [==============================] - 0s 23ms/step - loss: 0.2790 - accuracy: 0.9450\n",
            "Epoch 14/50\n",
            "7/7 [==============================] - 0s 19ms/step - loss: 0.2983 - accuracy: 0.9500\n",
            "Epoch 15/50\n",
            "7/7 [==============================] - 0s 20ms/step - loss: 0.3067 - accuracy: 0.9500\n",
            "Epoch 16/50\n",
            "7/7 [==============================] - 0s 21ms/step - loss: 0.2633 - accuracy: 0.9350\n",
            "Epoch 17/50\n",
            "7/7 [==============================] - 0s 19ms/step - loss: 0.2420 - accuracy: 0.9600\n",
            "Epoch 18/50\n",
            "7/7 [==============================] - 0s 20ms/step - loss: 0.2224 - accuracy: 0.9600\n",
            "Epoch 19/50\n",
            "7/7 [==============================] - 0s 20ms/step - loss: 0.1641 - accuracy: 0.9800\n",
            "Epoch 20/50\n",
            "7/7 [==============================] - 0s 23ms/step - loss: 0.1239 - accuracy: 0.9850\n",
            "Epoch 21/50\n",
            "7/7 [==============================] - 0s 19ms/step - loss: 0.0892 - accuracy: 0.9850\n",
            "Epoch 22/50\n",
            "7/7 [==============================] - 0s 21ms/step - loss: 0.0734 - accuracy: 0.9850\n",
            "Epoch 23/50\n",
            "7/7 [==============================] - 0s 20ms/step - loss: 0.0732 - accuracy: 0.9850\n",
            "Epoch 24/50\n",
            "7/7 [==============================] - 0s 20ms/step - loss: 0.0595 - accuracy: 0.9950\n",
            "Epoch 25/50\n",
            "7/7 [==============================] - 0s 30ms/step - loss: 0.1062 - accuracy: 0.9900\n",
            "Epoch 26/50\n",
            "7/7 [==============================] - 0s 32ms/step - loss: 0.0831 - accuracy: 0.9950\n",
            "Epoch 27/50\n",
            "7/7 [==============================] - 0s 31ms/step - loss: 0.0577 - accuracy: 0.9950\n",
            "Epoch 28/50\n",
            "7/7 [==============================] - 0s 32ms/step - loss: 0.0462 - accuracy: 0.9950\n",
            "Epoch 29/50\n",
            "7/7 [==============================] - 0s 34ms/step - loss: 0.0402 - accuracy: 0.9950\n"
          ]
        }
      ]
    },
    {
      "cell_type": "code",
      "source": [
        "def buildPhrase(inp_str):\n",
        "  for i in range(outp_chars):\n",
        "    x_test = np.array([tokenizer.texts_to_matrix(inp_str[j]) for j in range(len(inp_str)-inp_chars, len(inp_str))])\n",
        "    inp = x_test.reshape(1, inp_chars, num_characters)\n",
        "    pred = model_chars.predict(inp)\n",
        "    d = tokenizer.index_word[pred.argmax(axis=1)[0]]\n",
        "    inp_str += d\n",
        "  return inp_str\n",
        "\n",
        "res = buildPhrase(inp_str=\"лучший ответ на\")\n",
        "print(res)"
      ],
      "metadata": {
        "id": "s0_LNL2pMiku",
        "colab": {
          "base_uri": "https://localhost:8080/"
        },
        "outputId": "3934d467-f1dc-4098-9a1b-90e52247697f"
      },
      "execution_count": 19,
      "outputs": [
        {
          "output_type": "stream",
          "name": "stdout",
          "text": [
            "1/1 [==============================] - 1s 762ms/step\n",
            "1/1 [==============================] - 0s 24ms/step\n",
            "1/1 [==============================] - 0s 21ms/step\n",
            "лучший ответ на пр\n"
          ]
        }
      ]
    },
    {
      "cell_type": "markdown",
      "source": [
        "Была допущена ошибка в индексах, поэтому модель предсказывала неверный символ. Теперь все ОК:\n",
        "смотрит на предыдущие 8 символов и предсказывает 3 следующие"
      ],
      "metadata": {
        "id": "kq4qd5WlQWlY"
      }
    },
    {
      "cell_type": "markdown",
      "source": [
        "# Предсказание слов\n"
      ],
      "metadata": {
        "id": "5Lp6XvkoOYyH"
      }
    },
    {
      "cell_type": "code",
      "source": [
        "num_words = 100\n",
        "inp_words = 3 #количество слов, которые вводятся пользователем\n",
        "outp_words = 1 #количество слов, которые будем предсказывать"
      ],
      "metadata": {
        "id": "9b1uVKLJQ_zI"
      },
      "execution_count": 20,
      "outputs": []
    },
    {
      "cell_type": "code",
      "source": [
        "tokenizer_words = Tokenizer(num_words=num_words, filters='!–\"—#$%&amp;()*+,-./:;<=>?@[\\\\]^_`{|}~\\t\\n\\r«»',\n",
        "                              lower=True, split=' ', char_level=False)\n",
        "tokenizer_words.fit_on_texts([text])\n",
        "data_words = tokenizer_words.texts_to_sequences([text])\n",
        "data_words = keras.utils.to_categorical(data_words[0], num_classes=num_words)\n",
        "print(data_words)"
      ],
      "metadata": {
        "colab": {
          "base_uri": "https://localhost:8080/"
        },
        "id": "iFHN3A1sRaOg",
        "outputId": "3d4a829c-eafc-4039-ae0b-80bec2d8143b"
      },
      "execution_count": 21,
      "outputs": [
        {
          "output_type": "stream",
          "name": "stdout",
          "text": [
            "[[0. 1. 0. ... 0. 0. 0.]\n",
            " [0. 0. 0. ... 0. 0. 0.]\n",
            " [0. 0. 0. ... 0. 0. 0.]\n",
            " ...\n",
            " [0. 1. 0. ... 0. 0. 0.]\n",
            " [0. 0. 0. ... 0. 0. 0.]\n",
            " [0. 0. 0. ... 0. 0. 0.]]\n"
          ]
        }
      ]
    },
    {
      "cell_type": "code",
      "source": [
        "X_train_word = np.array([data_words[i:i+inp_words, :] for i in range(data_words.shape[0]-inp_words)])\n",
        "Y_train_word = data_words[inp_words:]"
      ],
      "metadata": {
        "id": "9a19mTWyUAa8"
      },
      "execution_count": 22,
      "outputs": []
    },
    {
      "cell_type": "code",
      "source": [
        "model_words = Sequential()\n",
        "model_words.add(Input((inp_words, num_words)))\n",
        "model_words.add(SimpleRNN(128, activation='tanh'))\n",
        "model_words.add(Dense(num_words, activation='softmax'))\n",
        "#model_words.summary()\n",
        "\n",
        "model_words.compile(loss='categorical_crossentropy', metrics=['accuracy'], optimizer='adam')\n",
        "history = model_words.fit(X_train_word, Y_train_word, batch_size=32, epochs=100)"
      ],
      "metadata": {
        "colab": {
          "base_uri": "https://localhost:8080/"
        },
        "id": "Yc8dLHkSQ9Nr",
        "outputId": "93bf6340-6df3-429a-b5b6-c2f1ebc41968"
      },
      "execution_count": 23,
      "outputs": [
        {
          "output_type": "stream",
          "name": "stdout",
          "text": [
            "Epoch 1/100\n",
            "1/1 [==============================] - 1s 1s/step - loss: 4.6193 - accuracy: 0.0000e+00\n",
            "Epoch 2/100\n",
            "1/1 [==============================] - 0s 14ms/step - loss: 4.5475 - accuracy: 0.0000e+00\n",
            "Epoch 3/100\n",
            "1/1 [==============================] - 0s 14ms/step - loss: 4.4758 - accuracy: 0.0000e+00\n",
            "Epoch 4/100\n",
            "1/1 [==============================] - 0s 14ms/step - loss: 4.4042 - accuracy: 0.1786\n",
            "Epoch 5/100\n",
            "1/1 [==============================] - 0s 11ms/step - loss: 4.3323 - accuracy: 0.3929\n",
            "Epoch 6/100\n",
            "1/1 [==============================] - 0s 19ms/step - loss: 4.2599 - accuracy: 0.3929\n",
            "Epoch 7/100\n",
            "1/1 [==============================] - 0s 13ms/step - loss: 4.1868 - accuracy: 0.5714\n",
            "Epoch 8/100\n",
            "1/1 [==============================] - 0s 299ms/step - loss: 4.1127 - accuracy: 0.6786\n",
            "Epoch 9/100\n",
            "1/1 [==============================] - 0s 12ms/step - loss: 4.0374 - accuracy: 0.7500\n",
            "Epoch 10/100\n",
            "1/1 [==============================] - 0s 14ms/step - loss: 3.9605 - accuracy: 0.8214\n",
            "Epoch 11/100\n",
            "1/1 [==============================] - 0s 13ms/step - loss: 3.8819 - accuracy: 0.8571\n",
            "Epoch 12/100\n",
            "1/1 [==============================] - 0s 14ms/step - loss: 3.8012 - accuracy: 0.8929\n",
            "Epoch 13/100\n",
            "1/1 [==============================] - 0s 13ms/step - loss: 3.7183 - accuracy: 0.9286\n",
            "Epoch 14/100\n",
            "1/1 [==============================] - 0s 14ms/step - loss: 3.6328 - accuracy: 0.9286\n",
            "Epoch 15/100\n",
            "1/1 [==============================] - 0s 13ms/step - loss: 3.5446 - accuracy: 0.9643\n",
            "Epoch 16/100\n",
            "1/1 [==============================] - 0s 13ms/step - loss: 3.4533 - accuracy: 0.9643\n",
            "Epoch 17/100\n",
            "1/1 [==============================] - 0s 15ms/step - loss: 3.3588 - accuracy: 0.9643\n",
            "Epoch 18/100\n",
            "1/1 [==============================] - 0s 14ms/step - loss: 3.2609 - accuracy: 0.9643\n",
            "Epoch 19/100\n",
            "1/1 [==============================] - 0s 16ms/step - loss: 3.1595 - accuracy: 0.9643\n",
            "Epoch 20/100\n",
            "1/1 [==============================] - 0s 14ms/step - loss: 3.0545 - accuracy: 0.9643\n",
            "Epoch 21/100\n",
            "1/1 [==============================] - 0s 12ms/step - loss: 2.9459 - accuracy: 0.9643\n",
            "Epoch 22/100\n",
            "1/1 [==============================] - 0s 13ms/step - loss: 2.8338 - accuracy: 0.9643\n",
            "Epoch 23/100\n",
            "1/1 [==============================] - 0s 12ms/step - loss: 2.7185 - accuracy: 0.9643\n",
            "Epoch 24/100\n",
            "1/1 [==============================] - 0s 13ms/step - loss: 2.6004 - accuracy: 0.9643\n",
            "Epoch 25/100\n",
            "1/1 [==============================] - 0s 14ms/step - loss: 2.4803 - accuracy: 0.9643\n",
            "Epoch 26/100\n",
            "1/1 [==============================] - 0s 13ms/step - loss: 2.3589 - accuracy: 0.9643\n",
            "Epoch 27/100\n",
            "1/1 [==============================] - 0s 14ms/step - loss: 2.2373 - accuracy: 0.9643\n",
            "Epoch 28/100\n",
            "1/1 [==============================] - 0s 14ms/step - loss: 2.1168 - accuracy: 0.9643\n",
            "Epoch 29/100\n",
            "1/1 [==============================] - 0s 14ms/step - loss: 1.9989 - accuracy: 1.0000\n",
            "Epoch 30/100\n",
            "1/1 [==============================] - 0s 11ms/step - loss: 1.8848 - accuracy: 0.9643\n",
            "Epoch 31/100\n",
            "1/1 [==============================] - 0s 16ms/step - loss: 1.7756 - accuracy: 0.9643\n",
            "Epoch 32/100\n",
            "1/1 [==============================] - 0s 14ms/step - loss: 1.6721 - accuracy: 0.9643\n",
            "Epoch 33/100\n",
            "1/1 [==============================] - 0s 12ms/step - loss: 1.5745 - accuracy: 0.9643\n",
            "Epoch 34/100\n",
            "1/1 [==============================] - 0s 12ms/step - loss: 1.4825 - accuracy: 0.9643\n",
            "Epoch 35/100\n",
            "1/1 [==============================] - 0s 12ms/step - loss: 1.3954 - accuracy: 0.9643\n",
            "Epoch 36/100\n",
            "1/1 [==============================] - 0s 12ms/step - loss: 1.3123 - accuracy: 0.9643\n",
            "Epoch 37/100\n",
            "1/1 [==============================] - 0s 11ms/step - loss: 1.2325 - accuracy: 1.0000\n",
            "Epoch 38/100\n",
            "1/1 [==============================] - 0s 13ms/step - loss: 1.1552 - accuracy: 1.0000\n",
            "Epoch 39/100\n",
            "1/1 [==============================] - 0s 11ms/step - loss: 1.0801 - accuracy: 1.0000\n",
            "Epoch 40/100\n",
            "1/1 [==============================] - 0s 13ms/step - loss: 1.0071 - accuracy: 1.0000\n",
            "Epoch 41/100\n",
            "1/1 [==============================] - 0s 13ms/step - loss: 0.9364 - accuracy: 1.0000\n",
            "Epoch 42/100\n",
            "1/1 [==============================] - 0s 13ms/step - loss: 0.8684 - accuracy: 1.0000\n",
            "Epoch 43/100\n",
            "1/1 [==============================] - 0s 12ms/step - loss: 0.8034 - accuracy: 1.0000\n",
            "Epoch 44/100\n",
            "1/1 [==============================] - 0s 12ms/step - loss: 0.7417 - accuracy: 1.0000\n",
            "Epoch 45/100\n",
            "1/1 [==============================] - 0s 13ms/step - loss: 0.6837 - accuracy: 1.0000\n",
            "Epoch 46/100\n",
            "1/1 [==============================] - 0s 16ms/step - loss: 0.6294 - accuracy: 1.0000\n",
            "Epoch 47/100\n",
            "1/1 [==============================] - 0s 13ms/step - loss: 0.5791 - accuracy: 1.0000\n",
            "Epoch 48/100\n",
            "1/1 [==============================] - 0s 13ms/step - loss: 0.5326 - accuracy: 1.0000\n",
            "Epoch 49/100\n",
            "1/1 [==============================] - 0s 13ms/step - loss: 0.4899 - accuracy: 1.0000\n",
            "Epoch 50/100\n",
            "1/1 [==============================] - 0s 13ms/step - loss: 0.4508 - accuracy: 1.0000\n",
            "Epoch 51/100\n",
            "1/1 [==============================] - 0s 13ms/step - loss: 0.4152 - accuracy: 1.0000\n",
            "Epoch 52/100\n",
            "1/1 [==============================] - 0s 12ms/step - loss: 0.3828 - accuracy: 1.0000\n",
            "Epoch 53/100\n",
            "1/1 [==============================] - 0s 12ms/step - loss: 0.3534 - accuracy: 1.0000\n",
            "Epoch 54/100\n",
            "1/1 [==============================] - 0s 12ms/step - loss: 0.3268 - accuracy: 1.0000\n",
            "Epoch 55/100\n",
            "1/1 [==============================] - 0s 14ms/step - loss: 0.3028 - accuracy: 1.0000\n",
            "Epoch 56/100\n",
            "1/1 [==============================] - 0s 13ms/step - loss: 0.2811 - accuracy: 1.0000\n",
            "Epoch 57/100\n",
            "1/1 [==============================] - 0s 13ms/step - loss: 0.2615 - accuracy: 1.0000\n",
            "Epoch 58/100\n",
            "1/1 [==============================] - 0s 12ms/step - loss: 0.2439 - accuracy: 1.0000\n",
            "Epoch 59/100\n",
            "1/1 [==============================] - 0s 14ms/step - loss: 0.2280 - accuracy: 1.0000\n",
            "Epoch 60/100\n",
            "1/1 [==============================] - 0s 14ms/step - loss: 0.2137 - accuracy: 1.0000\n",
            "Epoch 61/100\n",
            "1/1 [==============================] - 0s 16ms/step - loss: 0.2007 - accuracy: 1.0000\n",
            "Epoch 62/100\n",
            "1/1 [==============================] - 0s 12ms/step - loss: 0.1890 - accuracy: 1.0000\n",
            "Epoch 63/100\n",
            "1/1 [==============================] - 0s 14ms/step - loss: 0.1784 - accuracy: 1.0000\n",
            "Epoch 64/100\n",
            "1/1 [==============================] - 0s 12ms/step - loss: 0.1688 - accuracy: 1.0000\n",
            "Epoch 65/100\n",
            "1/1 [==============================] - 0s 13ms/step - loss: 0.1601 - accuracy: 1.0000\n",
            "Epoch 66/100\n",
            "1/1 [==============================] - 0s 13ms/step - loss: 0.1521 - accuracy: 1.0000\n",
            "Epoch 67/100\n",
            "1/1 [==============================] - 0s 13ms/step - loss: 0.1448 - accuracy: 1.0000\n",
            "Epoch 68/100\n",
            "1/1 [==============================] - 0s 13ms/step - loss: 0.1381 - accuracy: 1.0000\n",
            "Epoch 69/100\n",
            "1/1 [==============================] - 0s 12ms/step - loss: 0.1320 - accuracy: 1.0000\n",
            "Epoch 70/100\n",
            "1/1 [==============================] - 0s 12ms/step - loss: 0.1264 - accuracy: 1.0000\n",
            "Epoch 71/100\n",
            "1/1 [==============================] - 0s 15ms/step - loss: 0.1212 - accuracy: 1.0000\n",
            "Epoch 72/100\n",
            "1/1 [==============================] - 0s 12ms/step - loss: 0.1164 - accuracy: 1.0000\n",
            "Epoch 73/100\n",
            "1/1 [==============================] - 0s 14ms/step - loss: 0.1119 - accuracy: 1.0000\n",
            "Epoch 74/100\n",
            "1/1 [==============================] - 0s 13ms/step - loss: 0.1078 - accuracy: 1.0000\n",
            "Epoch 75/100\n",
            "1/1 [==============================] - 0s 12ms/step - loss: 0.1040 - accuracy: 1.0000\n",
            "Epoch 76/100\n",
            "1/1 [==============================] - 0s 12ms/step - loss: 0.1004 - accuracy: 1.0000\n",
            "Epoch 77/100\n",
            "1/1 [==============================] - 0s 16ms/step - loss: 0.0971 - accuracy: 1.0000\n",
            "Epoch 78/100\n",
            "1/1 [==============================] - 0s 16ms/step - loss: 0.0940 - accuracy: 1.0000\n",
            "Epoch 79/100\n",
            "1/1 [==============================] - 0s 17ms/step - loss: 0.0911 - accuracy: 1.0000\n",
            "Epoch 80/100\n",
            "1/1 [==============================] - 0s 19ms/step - loss: 0.0883 - accuracy: 1.0000\n",
            "Epoch 81/100\n",
            "1/1 [==============================] - 0s 13ms/step - loss: 0.0858 - accuracy: 1.0000\n",
            "Epoch 82/100\n",
            "1/1 [==============================] - 0s 12ms/step - loss: 0.0833 - accuracy: 1.0000\n",
            "Epoch 83/100\n",
            "1/1 [==============================] - 0s 12ms/step - loss: 0.0810 - accuracy: 1.0000\n",
            "Epoch 84/100\n",
            "1/1 [==============================] - 0s 12ms/step - loss: 0.0788 - accuracy: 1.0000\n",
            "Epoch 85/100\n",
            "1/1 [==============================] - 0s 12ms/step - loss: 0.0767 - accuracy: 1.0000\n",
            "Epoch 86/100\n",
            "1/1 [==============================] - 0s 12ms/step - loss: 0.0748 - accuracy: 1.0000\n",
            "Epoch 87/100\n",
            "1/1 [==============================] - 0s 12ms/step - loss: 0.0729 - accuracy: 1.0000\n",
            "Epoch 88/100\n",
            "1/1 [==============================] - 0s 13ms/step - loss: 0.0711 - accuracy: 1.0000\n",
            "Epoch 89/100\n",
            "1/1 [==============================] - 0s 13ms/step - loss: 0.0694 - accuracy: 1.0000\n",
            "Epoch 90/100\n",
            "1/1 [==============================] - 0s 13ms/step - loss: 0.0678 - accuracy: 1.0000\n",
            "Epoch 91/100\n",
            "1/1 [==============================] - 0s 13ms/step - loss: 0.0662 - accuracy: 1.0000\n",
            "Epoch 92/100\n",
            "1/1 [==============================] - 0s 12ms/step - loss: 0.0647 - accuracy: 1.0000\n",
            "Epoch 93/100\n",
            "1/1 [==============================] - 0s 17ms/step - loss: 0.0633 - accuracy: 1.0000\n",
            "Epoch 94/100\n",
            "1/1 [==============================] - 0s 12ms/step - loss: 0.0619 - accuracy: 1.0000\n",
            "Epoch 95/100\n",
            "1/1 [==============================] - 0s 11ms/step - loss: 0.0605 - accuracy: 1.0000\n",
            "Epoch 96/100\n",
            "1/1 [==============================] - 0s 12ms/step - loss: 0.0593 - accuracy: 1.0000\n",
            "Epoch 97/100\n",
            "1/1 [==============================] - 0s 14ms/step - loss: 0.0580 - accuracy: 1.0000\n",
            "Epoch 98/100\n",
            "1/1 [==============================] - 0s 12ms/step - loss: 0.0568 - accuracy: 1.0000\n",
            "Epoch 99/100\n",
            "1/1 [==============================] - 0s 12ms/step - loss: 0.0557 - accuracy: 1.0000\n",
            "Epoch 100/100\n",
            "1/1 [==============================] - 0s 12ms/step - loss: 0.0546 - accuracy: 1.0000\n"
          ]
        }
      ]
    },
    {
      "cell_type": "code",
      "source": [
        "def buildPhrase(inp_str, tokenizer_words):\n",
        "  res = inp_str\n",
        "  data_words = tokenizer_words.texts_to_sequences([inp_str])\n",
        "  data = keras.utils.to_categorical(data_words[0], num_classes=num_words)\n",
        "\n",
        "  for i in range(outp_words):\n",
        "    x_test = np.array([data[j] for j in range(len(data)-inp_words, len(data))])\n",
        "    inp = x_test.reshape(1, inp_words, num_words)\n",
        "    pred = model_words.predict(inp)\n",
        "    indx = pred.argmax(axis=1)[0]\n",
        "    res += ' ' + tokenizer_words.index_word[indx]\n",
        "  return res\n",
        "\n",
        "res = buildPhrase(inp_str=\"Вы  лучший ответ на\", tokenizer_words=tokenizer_words)\n",
        "print(res)\n",
        "\n",
        "res = buildPhrase(inp_str=\"Думайте позитивно и верьте в\", tokenizer_words=tokenizer_words)\n",
        "print(res)"
      ],
      "metadata": {
        "colab": {
          "base_uri": "https://localhost:8080/"
        },
        "id": "uBJd0_UjWVUD",
        "outputId": "ec33237c-45bc-477d-ecf7-fb782b4fd4d5"
      },
      "execution_count": 25,
      "outputs": [
        {
          "output_type": "stream",
          "name": "stdout",
          "text": [
            "1/1 [==============================] - 0s 22ms/step\n",
            "Вы  лучший ответ на проблемы\n",
            "1/1 [==============================] - 0s 21ms/step\n",
            "Думайте позитивно и верьте в свою\n"
          ]
        }
      ]
    },
    {
      "cell_type": "markdown",
      "source": [
        "Все работает. На основании 3 предыдущих слов предсказывает 4 слово"
      ],
      "metadata": {
        "id": "j9f6PhitP4Y0"
      }
    }
  ]
}