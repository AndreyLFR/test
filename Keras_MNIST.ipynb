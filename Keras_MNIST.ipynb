{
  "nbformat": 4,
  "nbformat_minor": 0,
  "metadata": {
    "colab": {
      "provenance": [],
      "toc_visible": true,
      "authorship_tag": "ABX9TyO8Efe2e5LdAsBORT1Nw/GG",
      "include_colab_link": true
    },
    "kernelspec": {
      "name": "python3",
      "display_name": "Python 3"
    },
    "language_info": {
      "name": "python"
    }
  },
  "cells": [
    {
      "cell_type": "markdown",
      "metadata": {
        "id": "view-in-github",
        "colab_type": "text"
      },
      "source": [
        "<a href=\"https://colab.research.google.com/github/AndreyLFR/test/blob/main/Keras_MNIST.ipynb\" target=\"_parent\"><img src=\"https://colab.research.google.com/assets/colab-badge.svg\" alt=\"Open In Colab\"/></a>"
      ]
    },
    {
      "cell_type": "code",
      "execution_count": 17,
      "metadata": {
        "id": "eo-VDJluV_YQ"
      },
      "outputs": [],
      "source": [
        "import numpy as np\n",
        "import keras\n",
        "from keras import layers"
      ]
    },
    {
      "cell_type": "markdown",
      "source": [
        "использую встроенный данные"
      ],
      "metadata": {
        "id": "amy0DnF1asOw"
      }
    },
    {
      "cell_type": "code",
      "source": [
        "(x_train, y_train), (x_test, y_test) = keras.datasets.mnist.load_data()"
      ],
      "metadata": {
        "id": "hVpSLZrgam0K"
      },
      "execution_count": 18,
      "outputs": []
    },
    {
      "cell_type": "markdown",
      "source": [
        "нормализация данных от 0 до 1"
      ],
      "metadata": {
        "id": "eWBY4QOBynJ4"
      }
    },
    {
      "cell_type": "code",
      "source": [
        "x_train = x_train.astype(\"float32\") / 255\n",
        "x_test = x_test.astype(\"float32\") / 255\n",
        "\n",
        "print(\"x_train shape:\", x_train.shape)\n",
        "print(x_train.shape[0], \"train samples\")\n",
        "print(x_test.shape[0], \"test samples\")"
      ],
      "metadata": {
        "colab": {
          "base_uri": "https://localhost:8080/"
        },
        "id": "Fl2PBjI0yniH",
        "outputId": "0e11ac4b-be17-4583-830f-ca3ab1f09fcf"
      },
      "execution_count": 19,
      "outputs": [
        {
          "output_type": "stream",
          "name": "stdout",
          "text": [
            "x_train shape: (60000, 28, 28)\n",
            "60000 train samples\n",
            "10000 test samples\n"
          ]
        }
      ]
    },
    {
      "cell_type": "markdown",
      "source": [
        "Преобразую target в массив, каждый из 10 элементов с одной 1 и нулями"
      ],
      "metadata": {
        "id": "SsQGUkLjyzS-"
      }
    },
    {
      "cell_type": "code",
      "source": [
        "num_classes = 10\n",
        "\n",
        "y_train = keras.utils.to_categorical(y_train, num_classes)\n",
        "y_test = keras.utils.to_categorical(y_test, num_classes)"
      ],
      "metadata": {
        "id": "ZEs-l2oAyhvV"
      },
      "execution_count": 20,
      "outputs": []
    },
    {
      "cell_type": "markdown",
      "source": [
        "Определяем параметры модели"
      ],
      "metadata": {
        "id": "AyP6QJ4gzY8X"
      }
    },
    {
      "cell_type": "code",
      "source": [
        "input_shape = (28, 28, 1)\n",
        "hidden_layers = 50\n",
        "\n",
        "model = keras.Sequential(\n",
        "    [\n",
        "        keras.Input(shape=input_shape),\n",
        "        layers.Conv2D(32, kernel_size=(3, 3), activation=\"relu\"),\n",
        "        layers.MaxPooling2D(pool_size=(2, 2)),\n",
        "        layers.Conv2D(64, kernel_size=(3, 3), activation=\"relu\"),\n",
        "        layers.MaxPooling2D(pool_size=(2, 2)),\n",
        "        layers.Flatten(),\n",
        "        layers.Dropout(0.5),\n",
        "        layers.Dense(hidden_layers, activation=\"relu\"),\n",
        "        layers.Dense(num_classes, activation=\"softmax\"),\n",
        "    ]\n",
        ")"
      ],
      "metadata": {
        "id": "YInQsdbWzZJJ"
      },
      "execution_count": 21,
      "outputs": []
    },
    {
      "cell_type": "markdown",
      "source": [
        "Создаю модель"
      ],
      "metadata": {
        "id": "bmZuEY8I1XJs"
      }
    },
    {
      "cell_type": "code",
      "source": [
        "batch_size = 128\n",
        "epochs = 15\n",
        "\n",
        "model.compile(loss=\"categorical_crossentropy\", optimizer=\"adam\", metrics=[\"accuracy\"])\n",
        "\n",
        "model.fit(x_train, y_train, batch_size=batch_size, epochs=epochs)"
      ],
      "metadata": {
        "colab": {
          "base_uri": "https://localhost:8080/"
        },
        "id": "tl341CwN1XWd",
        "outputId": "b023fe09-52bf-44bc-cf50-7dc9b4bc0f8e"
      },
      "execution_count": 22,
      "outputs": [
        {
          "output_type": "stream",
          "name": "stdout",
          "text": [
            "Epoch 1/15\n",
            "469/469 [==============================] - 47s 98ms/step - loss: 0.2782 - accuracy: 0.9148\n",
            "Epoch 2/15\n",
            "469/469 [==============================] - 50s 107ms/step - loss: 0.0891 - accuracy: 0.9729\n",
            "Epoch 3/15\n",
            "469/469 [==============================] - 45s 97ms/step - loss: 0.0682 - accuracy: 0.9787\n",
            "Epoch 4/15\n",
            "469/469 [==============================] - 48s 103ms/step - loss: 0.0570 - accuracy: 0.9825\n",
            "Epoch 5/15\n",
            "469/469 [==============================] - 49s 105ms/step - loss: 0.0494 - accuracy: 0.9839\n",
            "Epoch 6/15\n",
            "469/469 [==============================] - 44s 94ms/step - loss: 0.0443 - accuracy: 0.9860\n",
            "Epoch 7/15\n",
            "469/469 [==============================] - 46s 97ms/step - loss: 0.0382 - accuracy: 0.9879\n",
            "Epoch 8/15\n",
            "469/469 [==============================] - 45s 95ms/step - loss: 0.0371 - accuracy: 0.9880\n",
            "Epoch 9/15\n",
            "469/469 [==============================] - 46s 99ms/step - loss: 0.0329 - accuracy: 0.9897\n",
            "Epoch 10/15\n",
            "469/469 [==============================] - 44s 94ms/step - loss: 0.0310 - accuracy: 0.9894\n",
            "Epoch 11/15\n",
            "469/469 [==============================] - 45s 96ms/step - loss: 0.0300 - accuracy: 0.9905\n",
            "Epoch 12/15\n",
            "469/469 [==============================] - 44s 95ms/step - loss: 0.0268 - accuracy: 0.9913\n",
            "Epoch 13/15\n",
            "469/469 [==============================] - 47s 100ms/step - loss: 0.0263 - accuracy: 0.9913\n",
            "Epoch 14/15\n",
            "469/469 [==============================] - 47s 100ms/step - loss: 0.0236 - accuracy: 0.9918\n",
            "Epoch 15/15\n",
            "469/469 [==============================] - 45s 96ms/step - loss: 0.0225 - accuracy: 0.9928\n"
          ]
        },
        {
          "output_type": "execute_result",
          "data": {
            "text/plain": [
              "<keras.src.callbacks.History at 0x7a91ce523400>"
            ]
          },
          "metadata": {},
          "execution_count": 22
        }
      ]
    },
    {
      "cell_type": "markdown",
      "source": [
        "Результаты обучения"
      ],
      "metadata": {
        "id": "D9Xbz2iE1oaX"
      }
    },
    {
      "cell_type": "code",
      "source": [
        "score = model.evaluate(x_test, y_test, verbose=0)\n",
        "print(\"Test loss:\", score[0])\n",
        "print(\"Test accuracy:\", score[1])"
      ],
      "metadata": {
        "colab": {
          "base_uri": "https://localhost:8080/"
        },
        "id": "hl6o1VgG1olD",
        "outputId": "17e1c698-28e7-4200-deaa-5d4c988c19bd"
      },
      "execution_count": 23,
      "outputs": [
        {
          "output_type": "stream",
          "name": "stdout",
          "text": [
            "Test loss: 0.02289840765297413\n",
            "Test accuracy: 0.9919000267982483\n"
          ]
        }
      ]
    },
    {
      "cell_type": "markdown",
      "source": [
        "Удалось повысить точность предсказаний до 99% на тестовых данных. Платой за повышение точности служит увеличение стоимости расчетов"
      ],
      "metadata": {
        "id": "7w1H5lCg13Mc"
      }
    },
    {
      "cell_type": "markdown",
      "source": [
        "Подгружаю нарисованную цифру"
      ],
      "metadata": {
        "id": "GQ4Mh-2t6LKh"
      }
    },
    {
      "cell_type": "code",
      "source": [
        "from scipy.ndimage.measurements import center_of_mass\n",
        "import math\n",
        "import cv2\n",
        "import numpy as np\n",
        "\n",
        "def getBestShift(img):\n",
        "    cy,cx = center_of_mass(img)\n",
        "\n",
        "    rows,cols = img.shape\n",
        "    shiftx = np.round(cols/2.0-cx).astype(int)\n",
        "    shifty = np.round(rows/2.0-cy).astype(int)\n",
        "\n",
        "    return shiftx,shifty\n",
        "\n",
        "def shift(img,sx,sy):\n",
        "    rows,cols = img.shape\n",
        "    M = np.float32([[1,0,sx],[0,1,sy]])\n",
        "    shifted = cv2.warpAffine(img,M,(cols,rows))\n",
        "    return shifted\n",
        "\n",
        "def rec_digit(img_path):\n",
        "  img = cv2.imread(img_path, cv2.IMREAD_GRAYSCALE)\n",
        "  gray = 255-img\n",
        "  # применяем пороговую обработку\n",
        "  (thresh, gray) = cv2.threshold(gray, 128, 255, cv2.THRESH_BINARY | cv2.THRESH_OTSU)\n",
        "\n",
        "  # удаляем нулевые строки и столбцы\n",
        "  while np.sum(gray[0]) == 0:\n",
        "    gray = gray[1:]\n",
        "  while np.sum(gray[:,0]) == 0:\n",
        "    gray = np.delete(gray,0,1)\n",
        "  while np.sum(gray[-1]) == 0:\n",
        "    gray = gray[:-1]\n",
        "  while np.sum(gray[:,-1]) == 0:\n",
        "    gray = np.delete(gray,-1,1)\n",
        "  rows,cols = gray.shape\n",
        "\n",
        "  # изменяем размер, чтобы помещалось в box 20x20 пикселей\n",
        "  if rows > cols:\n",
        "    factor = 20.0/rows\n",
        "    rows = 20\n",
        "    cols = int(round(cols*factor))\n",
        "    gray = cv2.resize(gray, (cols,rows))\n",
        "  else:\n",
        "    factor = 20.0/cols\n",
        "    cols = 20\n",
        "    rows = int(round(rows*factor))\n",
        "    gray = cv2.resize(gray, (cols, rows))\n",
        "\n",
        "  # расширяем до размера 28x28\n",
        "  colsPadding = (int(math.ceil((28-cols)/2.0)),int(math.floor((28-cols)/2.0)))\n",
        "  rowsPadding = (int(math.ceil((28-rows)/2.0)),int(math.floor((28-rows)/2.0)))\n",
        "  gray = np.lib.pad(gray,(rowsPadding,colsPadding),'constant')\n",
        "\n",
        "  # сдвигаем центр масс\n",
        "  shiftx,shifty = getBestShift(gray)\n",
        "  shifted = shift(gray,shiftx,shifty)\n",
        "  gray = shifted\n",
        "\n",
        "  cv2.imwrite('gray'+ img_path, gray)\n",
        "  img = gray / 255.0\n",
        "  img = np.array(img).reshape(-1, 28, 28, 1)\n",
        "  out = str(np.argmax(model.predict(img)))\n",
        "  return out\n",
        "\n",
        "img = rec_digit('/content/2024-02-29 15.54.10.jpg')\n",
        "print(img)\n"
      ],
      "metadata": {
        "colab": {
          "base_uri": "https://localhost:8080/"
        },
        "id": "2ty65BAP6Jyx",
        "outputId": "580a440e-251f-4577-ce7a-06296ec478fa"
      },
      "execution_count": 47,
      "outputs": [
        {
          "output_type": "stream",
          "name": "stdout",
          "text": [
            "1/1 [==============================] - 0s 37ms/step\n",
            "7\n"
          ]
        },
        {
          "output_type": "stream",
          "name": "stderr",
          "text": [
            "<ipython-input-47-1d5f457db001>:1: DeprecationWarning: Please use `center_of_mass` from the `scipy.ndimage` namespace, the `scipy.ndimage.measurements` namespace is deprecated.\n",
            "  from scipy.ndimage.measurements import center_of_mass\n"
          ]
        }
      ]
    }
  ]
}